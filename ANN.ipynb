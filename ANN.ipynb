{
  "nbformat": 4,
  "nbformat_minor": 0,
  "metadata": {
    "colab": {
      "provenance": [],
      "gpuType": "T4"
    },
    "kernelspec": {
      "name": "python3",
      "display_name": "Python 3"
    },
    "language_info": {
      "name": "python"
    },
    "accelerator": "GPU"
  },
  "cells": [
    {
      "cell_type": "code",
      "execution_count": null,
      "metadata": {
        "id": "ycVd9mHAReTH"
      },
      "outputs": [],
      "source": [
        "import tensorflow as tf\n",
        "import keras\n",
        "from keras.models import Sequential\n",
        "from keras.models import Model\n",
        "from keras import layers"
      ]
    },
    {
      "cell_type": "code",
      "source": [
        "import pandas as pd\n",
        "from sklearn.model_selection import train_test_split\n",
        "df=pd.read_csv('diabetes.csv')\n",
        "X_train,x_test,Y_train,y_test =train_test_split (df[['Pregnancies','Glucose','BloodPressure','SkinThickness','Insulin','BMI','DiabetesPedigreeFunction','Age']],\n",
        "df['Outcome'],test_size=0.2,random_state=101)"
      ],
      "metadata": {
        "id": "8k0bdkIsRqvb"
      },
      "execution_count": null,
      "outputs": []
    },
    {
      "cell_type": "code",
      "source": [
        "Model = tf.keras.Sequential(layers.Flatten(input_shape = [8]))\n",
        "Model.add(layers.Dense(16, activation = \"relu\"))\n",
        "Model.add(layers.Dense(1, activation = \"sigmoid\"))\n",
        "Model.summary()"
      ],
      "metadata": {
        "colab": {
          "base_uri": "https://localhost:8080/"
        },
        "id": "p0hOT6ycSNke",
        "outputId": "bc199a5a-811a-410d-c4e2-0d53d1d149c3"
      },
      "execution_count": null,
      "outputs": [
        {
          "output_type": "stream",
          "name": "stdout",
          "text": [
            "Model: \"sequential\"\n",
            "_________________________________________________________________\n",
            " Layer (type)                Output Shape              Param #   \n",
            "=================================================================\n",
            " flatten (Flatten)           (None, 8)                 0         \n",
            "                                                                 \n",
            " dense (Dense)               (None, 16)                144       \n",
            "                                                                 \n",
            " dense_1 (Dense)             (None, 1)                 17        \n",
            "                                                                 \n",
            "=================================================================\n",
            "Total params: 161 (644.00 Byte)\n",
            "Trainable params: 161 (644.00 Byte)\n",
            "Non-trainable params: 0 (0.00 Byte)\n",
            "_________________________________________________________________\n"
          ]
        }
      ]
    },
    {
      "cell_type": "code",
      "source": [
        "Model.compile(loss = 'binary_crossentropy',optimizer= tf.keras.optimizers.Adam(0.01),metrics=['accuracy'])"
      ],
      "metadata": {
        "id": "iW3dHCj7SXkM"
      },
      "execution_count": null,
      "outputs": []
    },
    {
      "cell_type": "code",
      "source": [
        "Model.fit(X_train, Y_train, epochs=100, batch_size=32, validation_split=0.2)"
      ],
      "metadata": {
        "colab": {
          "base_uri": "https://localhost:8080/"
        },
        "id": "2ZWxifh1S5mJ",
        "outputId": "6a643072-f05d-4a90-c67a-946166d2c6b4"
      },
      "execution_count": null,
      "outputs": [
        {
          "output_type": "stream",
          "name": "stdout",
          "text": [
            "Epoch 1/100\n",
            "16/16 [==============================] - 0s 8ms/step - loss: 0.6569 - accuracy: 0.6375 - val_loss: 0.6284 - val_accuracy: 0.6829\n",
            "Epoch 2/100\n",
            "16/16 [==============================] - 0s 7ms/step - loss: 0.6561 - accuracy: 0.6375 - val_loss: 0.6283 - val_accuracy: 0.6829\n",
            "Epoch 3/100\n",
            "16/16 [==============================] - 0s 6ms/step - loss: 0.6556 - accuracy: 0.6375 - val_loss: 0.6326 - val_accuracy: 0.6829\n",
            "Epoch 4/100\n",
            "16/16 [==============================] - 0s 5ms/step - loss: 0.6565 - accuracy: 0.6375 - val_loss: 0.6284 - val_accuracy: 0.6829\n",
            "Epoch 5/100\n",
            "16/16 [==============================] - 0s 6ms/step - loss: 0.6575 - accuracy: 0.6375 - val_loss: 0.6310 - val_accuracy: 0.6829\n",
            "Epoch 6/100\n",
            "16/16 [==============================] - 0s 5ms/step - loss: 0.6562 - accuracy: 0.6375 - val_loss: 0.6290 - val_accuracy: 0.6829\n",
            "Epoch 7/100\n",
            "16/16 [==============================] - 0s 6ms/step - loss: 0.6549 - accuracy: 0.6375 - val_loss: 0.6263 - val_accuracy: 0.6829\n",
            "Epoch 8/100\n",
            "16/16 [==============================] - 0s 6ms/step - loss: 0.6578 - accuracy: 0.6375 - val_loss: 0.6315 - val_accuracy: 0.6829\n",
            "Epoch 9/100\n",
            "16/16 [==============================] - 0s 9ms/step - loss: 0.6587 - accuracy: 0.6375 - val_loss: 0.6322 - val_accuracy: 0.6829\n",
            "Epoch 10/100\n",
            "16/16 [==============================] - 0s 8ms/step - loss: 0.6549 - accuracy: 0.6375 - val_loss: 0.6261 - val_accuracy: 0.6829\n",
            "Epoch 11/100\n",
            "16/16 [==============================] - 0s 8ms/step - loss: 0.6568 - accuracy: 0.6375 - val_loss: 0.6289 - val_accuracy: 0.6829\n",
            "Epoch 12/100\n",
            "16/16 [==============================] - 0s 8ms/step - loss: 0.6554 - accuracy: 0.6375 - val_loss: 0.6264 - val_accuracy: 0.6829\n",
            "Epoch 13/100\n",
            "16/16 [==============================] - 0s 8ms/step - loss: 0.6568 - accuracy: 0.6375 - val_loss: 0.6282 - val_accuracy: 0.6829\n",
            "Epoch 14/100\n",
            "16/16 [==============================] - 0s 8ms/step - loss: 0.6557 - accuracy: 0.6375 - val_loss: 0.6353 - val_accuracy: 0.6829\n",
            "Epoch 15/100\n",
            "16/16 [==============================] - 0s 7ms/step - loss: 0.6563 - accuracy: 0.6375 - val_loss: 0.6254 - val_accuracy: 0.6829\n",
            "Epoch 16/100\n",
            "16/16 [==============================] - 0s 7ms/step - loss: 0.6556 - accuracy: 0.6375 - val_loss: 0.6307 - val_accuracy: 0.6829\n",
            "Epoch 17/100\n",
            "16/16 [==============================] - 0s 7ms/step - loss: 0.6554 - accuracy: 0.6375 - val_loss: 0.6285 - val_accuracy: 0.6829\n",
            "Epoch 18/100\n",
            "16/16 [==============================] - 0s 8ms/step - loss: 0.6557 - accuracy: 0.6375 - val_loss: 0.6277 - val_accuracy: 0.6829\n",
            "Epoch 19/100\n",
            "16/16 [==============================] - 0s 7ms/step - loss: 0.6571 - accuracy: 0.6375 - val_loss: 0.6334 - val_accuracy: 0.6829\n",
            "Epoch 20/100\n",
            "16/16 [==============================] - 0s 9ms/step - loss: 0.6602 - accuracy: 0.6375 - val_loss: 0.6282 - val_accuracy: 0.6829\n",
            "Epoch 21/100\n",
            "16/16 [==============================] - 0s 8ms/step - loss: 0.6571 - accuracy: 0.6375 - val_loss: 0.6271 - val_accuracy: 0.6829\n",
            "Epoch 22/100\n",
            "16/16 [==============================] - 0s 8ms/step - loss: 0.6635 - accuracy: 0.6375 - val_loss: 0.6345 - val_accuracy: 0.6829\n",
            "Epoch 23/100\n",
            "16/16 [==============================] - 0s 7ms/step - loss: 0.6602 - accuracy: 0.6375 - val_loss: 0.6263 - val_accuracy: 0.6829\n",
            "Epoch 24/100\n",
            "16/16 [==============================] - 0s 5ms/step - loss: 0.6548 - accuracy: 0.6375 - val_loss: 0.6318 - val_accuracy: 0.6829\n",
            "Epoch 25/100\n",
            "16/16 [==============================] - 0s 5ms/step - loss: 0.6557 - accuracy: 0.6375 - val_loss: 0.6295 - val_accuracy: 0.6829\n",
            "Epoch 26/100\n",
            "16/16 [==============================] - 0s 6ms/step - loss: 0.6568 - accuracy: 0.6375 - val_loss: 0.6348 - val_accuracy: 0.6829\n",
            "Epoch 27/100\n",
            "16/16 [==============================] - 0s 6ms/step - loss: 0.6627 - accuracy: 0.6375 - val_loss: 0.6267 - val_accuracy: 0.6829\n",
            "Epoch 28/100\n",
            "16/16 [==============================] - 0s 5ms/step - loss: 0.6550 - accuracy: 0.6375 - val_loss: 0.6398 - val_accuracy: 0.6829\n",
            "Epoch 29/100\n",
            "16/16 [==============================] - 0s 6ms/step - loss: 0.6551 - accuracy: 0.6375 - val_loss: 0.6260 - val_accuracy: 0.6829\n",
            "Epoch 30/100\n",
            "16/16 [==============================] - 0s 6ms/step - loss: 0.6584 - accuracy: 0.6375 - val_loss: 0.6270 - val_accuracy: 0.6829\n",
            "Epoch 31/100\n",
            "16/16 [==============================] - 0s 5ms/step - loss: 0.6561 - accuracy: 0.6375 - val_loss: 0.6328 - val_accuracy: 0.6829\n",
            "Epoch 32/100\n",
            "16/16 [==============================] - 0s 6ms/step - loss: 0.6553 - accuracy: 0.6375 - val_loss: 0.6285 - val_accuracy: 0.6829\n",
            "Epoch 33/100\n",
            "16/16 [==============================] - 0s 5ms/step - loss: 0.6565 - accuracy: 0.6375 - val_loss: 0.6283 - val_accuracy: 0.6829\n",
            "Epoch 34/100\n",
            "16/16 [==============================] - 0s 5ms/step - loss: 0.6557 - accuracy: 0.6375 - val_loss: 0.6292 - val_accuracy: 0.6829\n",
            "Epoch 35/100\n",
            "16/16 [==============================] - 0s 6ms/step - loss: 0.6600 - accuracy: 0.6375 - val_loss: 0.6302 - val_accuracy: 0.6829\n",
            "Epoch 36/100\n",
            "16/16 [==============================] - 0s 6ms/step - loss: 0.6553 - accuracy: 0.6375 - val_loss: 0.6269 - val_accuracy: 0.6829\n",
            "Epoch 37/100\n",
            "16/16 [==============================] - 0s 6ms/step - loss: 0.6587 - accuracy: 0.6375 - val_loss: 0.6281 - val_accuracy: 0.6829\n",
            "Epoch 38/100\n",
            "16/16 [==============================] - 0s 5ms/step - loss: 0.6561 - accuracy: 0.6375 - val_loss: 0.6276 - val_accuracy: 0.6829\n",
            "Epoch 39/100\n",
            "16/16 [==============================] - 0s 5ms/step - loss: 0.6560 - accuracy: 0.6375 - val_loss: 0.6321 - val_accuracy: 0.6829\n",
            "Epoch 40/100\n",
            "16/16 [==============================] - 0s 5ms/step - loss: 0.6569 - accuracy: 0.6375 - val_loss: 0.6341 - val_accuracy: 0.6829\n",
            "Epoch 41/100\n",
            "16/16 [==============================] - 0s 5ms/step - loss: 0.6569 - accuracy: 0.6375 - val_loss: 0.6309 - val_accuracy: 0.6829\n",
            "Epoch 42/100\n",
            "16/16 [==============================] - 0s 5ms/step - loss: 0.6580 - accuracy: 0.6375 - val_loss: 0.6264 - val_accuracy: 0.6829\n",
            "Epoch 43/100\n",
            "16/16 [==============================] - 0s 6ms/step - loss: 0.6591 - accuracy: 0.6375 - val_loss: 0.6288 - val_accuracy: 0.6829\n",
            "Epoch 44/100\n",
            "16/16 [==============================] - 0s 6ms/step - loss: 0.6612 - accuracy: 0.6375 - val_loss: 0.6330 - val_accuracy: 0.6829\n",
            "Epoch 45/100\n",
            "16/16 [==============================] - 0s 5ms/step - loss: 0.6556 - accuracy: 0.6375 - val_loss: 0.6266 - val_accuracy: 0.6829\n",
            "Epoch 46/100\n",
            "16/16 [==============================] - 0s 6ms/step - loss: 0.6557 - accuracy: 0.6375 - val_loss: 0.6297 - val_accuracy: 0.6829\n",
            "Epoch 47/100\n",
            "16/16 [==============================] - 0s 5ms/step - loss: 0.6554 - accuracy: 0.6375 - val_loss: 0.6262 - val_accuracy: 0.6829\n",
            "Epoch 48/100\n",
            "16/16 [==============================] - 0s 5ms/step - loss: 0.6568 - accuracy: 0.6375 - val_loss: 0.6275 - val_accuracy: 0.6829\n",
            "Epoch 49/100\n",
            "16/16 [==============================] - 0s 5ms/step - loss: 0.6566 - accuracy: 0.6375 - val_loss: 0.6277 - val_accuracy: 0.6829\n",
            "Epoch 50/100\n",
            "16/16 [==============================] - 0s 5ms/step - loss: 0.6555 - accuracy: 0.6375 - val_loss: 0.6288 - val_accuracy: 0.6829\n",
            "Epoch 51/100\n",
            "16/16 [==============================] - 0s 5ms/step - loss: 0.6580 - accuracy: 0.6375 - val_loss: 0.6291 - val_accuracy: 0.6829\n",
            "Epoch 52/100\n",
            "16/16 [==============================] - 0s 5ms/step - loss: 0.6571 - accuracy: 0.6375 - val_loss: 0.6337 - val_accuracy: 0.6829\n",
            "Epoch 53/100\n",
            "16/16 [==============================] - 0s 6ms/step - loss: 0.6551 - accuracy: 0.6375 - val_loss: 0.6269 - val_accuracy: 0.6829\n",
            "Epoch 54/100\n",
            "16/16 [==============================] - 0s 5ms/step - loss: 0.6558 - accuracy: 0.6375 - val_loss: 0.6279 - val_accuracy: 0.6829\n",
            "Epoch 55/100\n",
            "16/16 [==============================] - 0s 6ms/step - loss: 0.6554 - accuracy: 0.6375 - val_loss: 0.6317 - val_accuracy: 0.6829\n",
            "Epoch 56/100\n",
            "16/16 [==============================] - 0s 5ms/step - loss: 0.6554 - accuracy: 0.6375 - val_loss: 0.6280 - val_accuracy: 0.6829\n",
            "Epoch 57/100\n",
            "16/16 [==============================] - 0s 5ms/step - loss: 0.6567 - accuracy: 0.6375 - val_loss: 0.6306 - val_accuracy: 0.6829\n",
            "Epoch 58/100\n",
            "16/16 [==============================] - 0s 5ms/step - loss: 0.6609 - accuracy: 0.6375 - val_loss: 0.6302 - val_accuracy: 0.6829\n",
            "Epoch 59/100\n",
            "16/16 [==============================] - 0s 5ms/step - loss: 0.6563 - accuracy: 0.6375 - val_loss: 0.6256 - val_accuracy: 0.6829\n",
            "Epoch 60/100\n",
            "16/16 [==============================] - 0s 5ms/step - loss: 0.6546 - accuracy: 0.6375 - val_loss: 0.6344 - val_accuracy: 0.6829\n",
            "Epoch 61/100\n",
            "16/16 [==============================] - 0s 5ms/step - loss: 0.6577 - accuracy: 0.6375 - val_loss: 0.6320 - val_accuracy: 0.6829\n",
            "Epoch 62/100\n",
            "16/16 [==============================] - 0s 5ms/step - loss: 0.6553 - accuracy: 0.6375 - val_loss: 0.6268 - val_accuracy: 0.6829\n",
            "Epoch 63/100\n",
            "16/16 [==============================] - 0s 6ms/step - loss: 0.6567 - accuracy: 0.6375 - val_loss: 0.6275 - val_accuracy: 0.6829\n",
            "Epoch 64/100\n",
            "16/16 [==============================] - 0s 5ms/step - loss: 0.6618 - accuracy: 0.6375 - val_loss: 0.6309 - val_accuracy: 0.6829\n",
            "Epoch 65/100\n",
            "16/16 [==============================] - 0s 5ms/step - loss: 0.6565 - accuracy: 0.6375 - val_loss: 0.6261 - val_accuracy: 0.6829\n",
            "Epoch 66/100\n",
            "16/16 [==============================] - 0s 5ms/step - loss: 0.6569 - accuracy: 0.6375 - val_loss: 0.6330 - val_accuracy: 0.6829\n",
            "Epoch 67/100\n",
            "16/16 [==============================] - 0s 6ms/step - loss: 0.6558 - accuracy: 0.6375 - val_loss: 0.6288 - val_accuracy: 0.6829\n",
            "Epoch 68/100\n",
            "16/16 [==============================] - 0s 5ms/step - loss: 0.6562 - accuracy: 0.6375 - val_loss: 0.6300 - val_accuracy: 0.6829\n",
            "Epoch 69/100\n",
            "16/16 [==============================] - 0s 6ms/step - loss: 0.6570 - accuracy: 0.6375 - val_loss: 0.6289 - val_accuracy: 0.6829\n",
            "Epoch 70/100\n",
            "16/16 [==============================] - 0s 6ms/step - loss: 0.6584 - accuracy: 0.6375 - val_loss: 0.6269 - val_accuracy: 0.6829\n",
            "Epoch 71/100\n",
            "16/16 [==============================] - 0s 6ms/step - loss: 0.6564 - accuracy: 0.6375 - val_loss: 0.6305 - val_accuracy: 0.6829\n",
            "Epoch 72/100\n",
            "16/16 [==============================] - 0s 5ms/step - loss: 0.6584 - accuracy: 0.6375 - val_loss: 0.6266 - val_accuracy: 0.6829\n",
            "Epoch 73/100\n",
            "16/16 [==============================] - 0s 4ms/step - loss: 0.6607 - accuracy: 0.6375 - val_loss: 0.6331 - val_accuracy: 0.6829\n",
            "Epoch 74/100\n",
            "16/16 [==============================] - 0s 5ms/step - loss: 0.6568 - accuracy: 0.6375 - val_loss: 0.6265 - val_accuracy: 0.6829\n",
            "Epoch 75/100\n",
            "16/16 [==============================] - 0s 5ms/step - loss: 0.6576 - accuracy: 0.6375 - val_loss: 0.6327 - val_accuracy: 0.6829\n",
            "Epoch 76/100\n",
            "16/16 [==============================] - 0s 5ms/step - loss: 0.6580 - accuracy: 0.6375 - val_loss: 0.6271 - val_accuracy: 0.6829\n",
            "Epoch 77/100\n",
            "16/16 [==============================] - 0s 5ms/step - loss: 0.6556 - accuracy: 0.6375 - val_loss: 0.6323 - val_accuracy: 0.6829\n",
            "Epoch 78/100\n",
            "16/16 [==============================] - 0s 5ms/step - loss: 0.6565 - accuracy: 0.6375 - val_loss: 0.6298 - val_accuracy: 0.6829\n",
            "Epoch 79/100\n",
            "16/16 [==============================] - 0s 5ms/step - loss: 0.6567 - accuracy: 0.6375 - val_loss: 0.6262 - val_accuracy: 0.6829\n",
            "Epoch 80/100\n",
            "16/16 [==============================] - 0s 5ms/step - loss: 0.6564 - accuracy: 0.6375 - val_loss: 0.6313 - val_accuracy: 0.6829\n",
            "Epoch 81/100\n",
            "16/16 [==============================] - 0s 5ms/step - loss: 0.6581 - accuracy: 0.6375 - val_loss: 0.6350 - val_accuracy: 0.6829\n",
            "Epoch 82/100\n",
            "16/16 [==============================] - 0s 6ms/step - loss: 0.6580 - accuracy: 0.6375 - val_loss: 0.6258 - val_accuracy: 0.6829\n",
            "Epoch 83/100\n",
            "16/16 [==============================] - 0s 6ms/step - loss: 0.6563 - accuracy: 0.6375 - val_loss: 0.6336 - val_accuracy: 0.6829\n",
            "Epoch 84/100\n",
            "16/16 [==============================] - 0s 5ms/step - loss: 0.6557 - accuracy: 0.6375 - val_loss: 0.6272 - val_accuracy: 0.6829\n",
            "Epoch 85/100\n",
            "16/16 [==============================] - 0s 6ms/step - loss: 0.6576 - accuracy: 0.6375 - val_loss: 0.6314 - val_accuracy: 0.6829\n",
            "Epoch 86/100\n",
            "16/16 [==============================] - 0s 5ms/step - loss: 0.6566 - accuracy: 0.6375 - val_loss: 0.6264 - val_accuracy: 0.6829\n",
            "Epoch 87/100\n",
            "16/16 [==============================] - 0s 5ms/step - loss: 0.6546 - accuracy: 0.6375 - val_loss: 0.6321 - val_accuracy: 0.6829\n",
            "Epoch 88/100\n",
            "16/16 [==============================] - 0s 6ms/step - loss: 0.6571 - accuracy: 0.6375 - val_loss: 0.6310 - val_accuracy: 0.6829\n",
            "Epoch 89/100\n",
            "16/16 [==============================] - 0s 5ms/step - loss: 0.6566 - accuracy: 0.6375 - val_loss: 0.6302 - val_accuracy: 0.6829\n",
            "Epoch 90/100\n",
            "16/16 [==============================] - 0s 6ms/step - loss: 0.6604 - accuracy: 0.6375 - val_loss: 0.6268 - val_accuracy: 0.6829\n",
            "Epoch 91/100\n",
            "16/16 [==============================] - 0s 6ms/step - loss: 0.6577 - accuracy: 0.6375 - val_loss: 0.6355 - val_accuracy: 0.6829\n",
            "Epoch 92/100\n",
            "16/16 [==============================] - 0s 5ms/step - loss: 0.6579 - accuracy: 0.6375 - val_loss: 0.6275 - val_accuracy: 0.6829\n",
            "Epoch 93/100\n",
            "16/16 [==============================] - 0s 6ms/step - loss: 0.6551 - accuracy: 0.6375 - val_loss: 0.6312 - val_accuracy: 0.6829\n",
            "Epoch 94/100\n",
            "16/16 [==============================] - 0s 5ms/step - loss: 0.6584 - accuracy: 0.6375 - val_loss: 0.6285 - val_accuracy: 0.6829\n",
            "Epoch 95/100\n",
            "16/16 [==============================] - 0s 5ms/step - loss: 0.6578 - accuracy: 0.6375 - val_loss: 0.6307 - val_accuracy: 0.6829\n",
            "Epoch 96/100\n",
            "16/16 [==============================] - 0s 5ms/step - loss: 0.6560 - accuracy: 0.6375 - val_loss: 0.6265 - val_accuracy: 0.6829\n",
            "Epoch 97/100\n",
            "16/16 [==============================] - 0s 5ms/step - loss: 0.6577 - accuracy: 0.6375 - val_loss: 0.6296 - val_accuracy: 0.6829\n",
            "Epoch 98/100\n",
            "16/16 [==============================] - 0s 5ms/step - loss: 0.6557 - accuracy: 0.6375 - val_loss: 0.6309 - val_accuracy: 0.6829\n",
            "Epoch 99/100\n",
            "16/16 [==============================] - 0s 5ms/step - loss: 0.6575 - accuracy: 0.6375 - val_loss: 0.6266 - val_accuracy: 0.6829\n",
            "Epoch 100/100\n",
            "16/16 [==============================] - 0s 5ms/step - loss: 0.6575 - accuracy: 0.6375 - val_loss: 0.6282 - val_accuracy: 0.6829\n"
          ]
        },
        {
          "output_type": "execute_result",
          "data": {
            "text/plain": [
              "<keras.src.callbacks.History at 0x7996fced1270>"
            ]
          },
          "metadata": {},
          "execution_count": 37
        }
      ]
    },
    {
      "cell_type": "code",
      "source": [
        "Model.evaluate(x_test,y_test)"
      ],
      "metadata": {
        "colab": {
          "base_uri": "https://localhost:8080/"
        },
        "id": "dZpymVyHS7uX",
        "outputId": "ba01b519-a620-46e3-b269-090b57b834f7"
      },
      "execution_count": null,
      "outputs": [
        {
          "output_type": "stream",
          "name": "stdout",
          "text": [
            "5/5 [==============================] - 0s 5ms/step - loss: 0.5622 - accuracy: 0.7597\n"
          ]
        },
        {
          "output_type": "execute_result",
          "data": {
            "text/plain": [
              "[0.5621826648712158, 0.7597402334213257]"
            ]
          },
          "metadata": {},
          "execution_count": 7
        }
      ]
    },
    {
      "cell_type": "code",
      "source": [
        "Model.fit(X_train, Y_train, epochs=80, batch_size=16, validation_split=0.2)"
      ],
      "metadata": {
        "colab": {
          "base_uri": "https://localhost:8080/"
        },
        "id": "qoEkFkrLTCaT",
        "outputId": "31147bb6-2e8c-49a3-eb8b-1240dd96818e"
      },
      "execution_count": null,
      "outputs": [
        {
          "output_type": "stream",
          "name": "stdout",
          "text": [
            "Epoch 1/80\n",
            "31/31 [==============================] - 0s 10ms/step - loss: 0.5579 - accuracy: 0.7352 - val_loss: 0.5676 - val_accuracy: 0.7398\n",
            "Epoch 2/80\n",
            "31/31 [==============================] - 0s 11ms/step - loss: 0.5923 - accuracy: 0.7230 - val_loss: 0.5545 - val_accuracy: 0.7154\n",
            "Epoch 3/80\n",
            "31/31 [==============================] - 0s 14ms/step - loss: 0.5568 - accuracy: 0.6986 - val_loss: 0.6650 - val_accuracy: 0.6911\n",
            "Epoch 4/80\n",
            "31/31 [==============================] - 1s 17ms/step - loss: 0.6158 - accuracy: 0.6986 - val_loss: 0.5495 - val_accuracy: 0.7480\n",
            "Epoch 5/80\n",
            "31/31 [==============================] - 0s 8ms/step - loss: 0.6143 - accuracy: 0.7149 - val_loss: 0.5758 - val_accuracy: 0.6423\n",
            "Epoch 6/80\n",
            "31/31 [==============================] - 0s 7ms/step - loss: 0.6498 - accuracy: 0.7067 - val_loss: 0.5356 - val_accuracy: 0.7154\n",
            "Epoch 7/80\n",
            "31/31 [==============================] - 0s 4ms/step - loss: 0.5553 - accuracy: 0.7556 - val_loss: 0.5323 - val_accuracy: 0.7236\n",
            "Epoch 8/80\n",
            "31/31 [==============================] - 0s 4ms/step - loss: 0.5888 - accuracy: 0.7108 - val_loss: 0.5965 - val_accuracy: 0.6911\n",
            "Epoch 9/80\n",
            "31/31 [==============================] - 0s 4ms/step - loss: 0.5656 - accuracy: 0.7434 - val_loss: 0.5889 - val_accuracy: 0.6911\n",
            "Epoch 10/80\n",
            "31/31 [==============================] - 0s 4ms/step - loss: 0.5920 - accuracy: 0.7393 - val_loss: 0.5683 - val_accuracy: 0.7236\n",
            "Epoch 11/80\n",
            "31/31 [==============================] - 0s 4ms/step - loss: 0.5317 - accuracy: 0.7373 - val_loss: 0.6311 - val_accuracy: 0.6667\n",
            "Epoch 12/80\n",
            "31/31 [==============================] - 0s 4ms/step - loss: 0.6275 - accuracy: 0.7047 - val_loss: 0.5252 - val_accuracy: 0.7236\n",
            "Epoch 13/80\n",
            "31/31 [==============================] - 0s 4ms/step - loss: 0.6247 - accuracy: 0.6986 - val_loss: 0.5711 - val_accuracy: 0.6992\n",
            "Epoch 14/80\n",
            "31/31 [==============================] - 0s 6ms/step - loss: 0.5289 - accuracy: 0.7515 - val_loss: 0.5315 - val_accuracy: 0.7236\n",
            "Epoch 15/80\n",
            "31/31 [==============================] - 0s 4ms/step - loss: 0.4815 - accuracy: 0.7678 - val_loss: 0.5995 - val_accuracy: 0.6911\n",
            "Epoch 16/80\n",
            "31/31 [==============================] - 0s 4ms/step - loss: 0.5246 - accuracy: 0.7434 - val_loss: 0.6532 - val_accuracy: 0.6992\n",
            "Epoch 17/80\n",
            "31/31 [==============================] - 0s 4ms/step - loss: 0.5391 - accuracy: 0.7332 - val_loss: 0.5752 - val_accuracy: 0.7398\n",
            "Epoch 18/80\n",
            "31/31 [==============================] - 0s 4ms/step - loss: 0.5963 - accuracy: 0.7088 - val_loss: 0.6089 - val_accuracy: 0.6829\n",
            "Epoch 19/80\n",
            "31/31 [==============================] - 0s 4ms/step - loss: 0.6437 - accuracy: 0.7210 - val_loss: 0.7908 - val_accuracy: 0.6748\n",
            "Epoch 20/80\n",
            "31/31 [==============================] - 0s 4ms/step - loss: 0.8224 - accuracy: 0.6802 - val_loss: 0.6440 - val_accuracy: 0.6667\n",
            "Epoch 21/80\n",
            "31/31 [==============================] - 0s 4ms/step - loss: 0.7121 - accuracy: 0.6762 - val_loss: 0.5617 - val_accuracy: 0.7073\n",
            "Epoch 22/80\n",
            "31/31 [==============================] - 0s 4ms/step - loss: 0.7979 - accuracy: 0.6762 - val_loss: 0.5634 - val_accuracy: 0.6992\n",
            "Epoch 23/80\n",
            "31/31 [==============================] - 0s 4ms/step - loss: 0.5915 - accuracy: 0.7067 - val_loss: 0.7059 - val_accuracy: 0.6748\n",
            "Epoch 24/80\n",
            "31/31 [==============================] - 0s 4ms/step - loss: 0.5638 - accuracy: 0.7352 - val_loss: 0.5850 - val_accuracy: 0.6992\n",
            "Epoch 25/80\n",
            "31/31 [==============================] - 0s 4ms/step - loss: 0.5351 - accuracy: 0.7454 - val_loss: 0.5510 - val_accuracy: 0.7073\n",
            "Epoch 26/80\n",
            "31/31 [==============================] - 0s 4ms/step - loss: 0.5279 - accuracy: 0.7597 - val_loss: 0.5492 - val_accuracy: 0.7073\n",
            "Epoch 27/80\n",
            "31/31 [==============================] - 0s 4ms/step - loss: 0.5345 - accuracy: 0.7413 - val_loss: 0.5599 - val_accuracy: 0.6911\n",
            "Epoch 28/80\n",
            "31/31 [==============================] - 0s 4ms/step - loss: 0.5095 - accuracy: 0.7637 - val_loss: 0.6425 - val_accuracy: 0.6667\n",
            "Epoch 29/80\n",
            "31/31 [==============================] - 0s 5ms/step - loss: 0.5971 - accuracy: 0.7230 - val_loss: 0.5602 - val_accuracy: 0.7398\n",
            "Epoch 30/80\n",
            "31/31 [==============================] - 0s 4ms/step - loss: 0.5499 - accuracy: 0.7576 - val_loss: 0.6156 - val_accuracy: 0.7154\n",
            "Epoch 31/80\n",
            "31/31 [==============================] - 0s 4ms/step - loss: 0.5920 - accuracy: 0.7169 - val_loss: 0.5879 - val_accuracy: 0.6829\n",
            "Epoch 32/80\n",
            "31/31 [==============================] - 0s 4ms/step - loss: 0.5689 - accuracy: 0.7332 - val_loss: 0.5406 - val_accuracy: 0.7236\n",
            "Epoch 33/80\n",
            "31/31 [==============================] - 0s 4ms/step - loss: 0.5318 - accuracy: 0.7536 - val_loss: 0.5388 - val_accuracy: 0.7154\n",
            "Epoch 34/80\n",
            "31/31 [==============================] - 0s 4ms/step - loss: 0.5065 - accuracy: 0.7536 - val_loss: 0.5262 - val_accuracy: 0.7073\n",
            "Epoch 35/80\n",
            "31/31 [==============================] - 0s 4ms/step - loss: 0.5569 - accuracy: 0.7373 - val_loss: 0.5523 - val_accuracy: 0.7073\n",
            "Epoch 36/80\n",
            "31/31 [==============================] - 0s 4ms/step - loss: 0.5678 - accuracy: 0.7271 - val_loss: 0.5324 - val_accuracy: 0.7317\n",
            "Epoch 37/80\n",
            "31/31 [==============================] - 0s 4ms/step - loss: 0.4982 - accuracy: 0.7617 - val_loss: 0.5729 - val_accuracy: 0.6911\n",
            "Epoch 38/80\n",
            "31/31 [==============================] - 0s 4ms/step - loss: 0.5049 - accuracy: 0.7434 - val_loss: 0.5287 - val_accuracy: 0.7480\n",
            "Epoch 39/80\n",
            "31/31 [==============================] - 0s 4ms/step - loss: 0.5108 - accuracy: 0.7413 - val_loss: 0.5673 - val_accuracy: 0.7236\n",
            "Epoch 40/80\n",
            "31/31 [==============================] - 0s 5ms/step - loss: 0.5647 - accuracy: 0.7251 - val_loss: 0.6342 - val_accuracy: 0.7154\n",
            "Epoch 41/80\n",
            "31/31 [==============================] - 0s 5ms/step - loss: 0.5700 - accuracy: 0.7108 - val_loss: 0.5376 - val_accuracy: 0.6992\n",
            "Epoch 42/80\n",
            "31/31 [==============================] - 0s 4ms/step - loss: 0.5490 - accuracy: 0.7251 - val_loss: 0.5575 - val_accuracy: 0.7073\n",
            "Epoch 43/80\n",
            "31/31 [==============================] - 0s 4ms/step - loss: 0.5047 - accuracy: 0.7536 - val_loss: 0.5264 - val_accuracy: 0.7317\n",
            "Epoch 44/80\n",
            "31/31 [==============================] - 0s 5ms/step - loss: 0.5069 - accuracy: 0.7637 - val_loss: 0.5521 - val_accuracy: 0.7073\n",
            "Epoch 45/80\n",
            "31/31 [==============================] - 0s 4ms/step - loss: 0.5045 - accuracy: 0.7576 - val_loss: 0.5299 - val_accuracy: 0.7154\n",
            "Epoch 46/80\n",
            "31/31 [==============================] - 0s 4ms/step - loss: 0.5134 - accuracy: 0.7536 - val_loss: 0.5419 - val_accuracy: 0.7154\n",
            "Epoch 47/80\n",
            "31/31 [==============================] - 0s 4ms/step - loss: 0.4991 - accuracy: 0.7658 - val_loss: 0.5244 - val_accuracy: 0.7236\n",
            "Epoch 48/80\n",
            "31/31 [==============================] - 0s 4ms/step - loss: 0.4843 - accuracy: 0.7862 - val_loss: 0.5458 - val_accuracy: 0.6992\n",
            "Epoch 49/80\n",
            "31/31 [==============================] - 0s 4ms/step - loss: 0.4883 - accuracy: 0.7739 - val_loss: 0.5178 - val_accuracy: 0.7236\n",
            "Epoch 50/80\n",
            "31/31 [==============================] - 0s 4ms/step - loss: 0.4909 - accuracy: 0.7719 - val_loss: 0.5331 - val_accuracy: 0.6911\n",
            "Epoch 51/80\n",
            "31/31 [==============================] - 0s 4ms/step - loss: 0.4998 - accuracy: 0.7556 - val_loss: 0.5507 - val_accuracy: 0.7236\n",
            "Epoch 52/80\n",
            "31/31 [==============================] - 0s 5ms/step - loss: 0.5384 - accuracy: 0.7230 - val_loss: 0.6108 - val_accuracy: 0.6992\n",
            "Epoch 53/80\n",
            "31/31 [==============================] - 0s 4ms/step - loss: 0.5205 - accuracy: 0.7658 - val_loss: 0.5320 - val_accuracy: 0.7073\n",
            "Epoch 54/80\n",
            "31/31 [==============================] - 0s 4ms/step - loss: 0.5282 - accuracy: 0.7475 - val_loss: 0.5243 - val_accuracy: 0.7398\n",
            "Epoch 55/80\n",
            "31/31 [==============================] - 0s 4ms/step - loss: 0.5435 - accuracy: 0.7434 - val_loss: 0.5507 - val_accuracy: 0.7154\n",
            "Epoch 56/80\n",
            "31/31 [==============================] - 0s 4ms/step - loss: 0.4936 - accuracy: 0.7454 - val_loss: 0.5146 - val_accuracy: 0.7480\n",
            "Epoch 57/80\n",
            "31/31 [==============================] - 0s 4ms/step - loss: 0.5118 - accuracy: 0.7475 - val_loss: 0.5522 - val_accuracy: 0.7154\n",
            "Epoch 58/80\n",
            "31/31 [==============================] - 0s 4ms/step - loss: 0.5577 - accuracy: 0.7434 - val_loss: 0.6103 - val_accuracy: 0.6911\n",
            "Epoch 59/80\n",
            "31/31 [==============================] - 0s 6ms/step - loss: 0.5507 - accuracy: 0.7352 - val_loss: 0.5195 - val_accuracy: 0.7398\n",
            "Epoch 60/80\n",
            "31/31 [==============================] - 0s 4ms/step - loss: 0.4977 - accuracy: 0.7678 - val_loss: 0.6134 - val_accuracy: 0.7073\n",
            "Epoch 61/80\n",
            "31/31 [==============================] - 0s 4ms/step - loss: 0.5021 - accuracy: 0.7475 - val_loss: 0.5327 - val_accuracy: 0.7480\n",
            "Epoch 62/80\n",
            "31/31 [==============================] - 0s 4ms/step - loss: 0.4976 - accuracy: 0.7393 - val_loss: 0.5126 - val_accuracy: 0.7236\n",
            "Epoch 63/80\n",
            "31/31 [==============================] - 0s 4ms/step - loss: 0.4921 - accuracy: 0.7576 - val_loss: 0.5054 - val_accuracy: 0.7398\n",
            "Epoch 64/80\n",
            "31/31 [==============================] - 0s 4ms/step - loss: 0.5142 - accuracy: 0.7475 - val_loss: 0.5297 - val_accuracy: 0.7154\n",
            "Epoch 65/80\n",
            "31/31 [==============================] - 0s 4ms/step - loss: 0.5101 - accuracy: 0.7495 - val_loss: 0.5261 - val_accuracy: 0.7398\n",
            "Epoch 66/80\n",
            "31/31 [==============================] - 0s 4ms/step - loss: 0.4940 - accuracy: 0.7760 - val_loss: 0.5552 - val_accuracy: 0.7236\n",
            "Epoch 67/80\n",
            "31/31 [==============================] - 0s 4ms/step - loss: 0.5048 - accuracy: 0.7637 - val_loss: 0.5324 - val_accuracy: 0.7561\n",
            "Epoch 68/80\n",
            "31/31 [==============================] - 0s 4ms/step - loss: 0.5073 - accuracy: 0.7536 - val_loss: 0.5300 - val_accuracy: 0.7642\n",
            "Epoch 69/80\n",
            "31/31 [==============================] - 0s 4ms/step - loss: 0.5246 - accuracy: 0.7536 - val_loss: 0.5088 - val_accuracy: 0.7236\n",
            "Epoch 70/80\n",
            "31/31 [==============================] - 0s 5ms/step - loss: 0.5264 - accuracy: 0.7291 - val_loss: 0.5529 - val_accuracy: 0.7398\n",
            "Epoch 71/80\n",
            "31/31 [==============================] - 0s 4ms/step - loss: 0.5164 - accuracy: 0.7637 - val_loss: 0.5567 - val_accuracy: 0.7154\n",
            "Epoch 72/80\n",
            "31/31 [==============================] - 0s 4ms/step - loss: 0.4929 - accuracy: 0.7597 - val_loss: 0.5337 - val_accuracy: 0.7398\n",
            "Epoch 73/80\n",
            "31/31 [==============================] - 0s 4ms/step - loss: 0.4961 - accuracy: 0.7556 - val_loss: 0.5119 - val_accuracy: 0.7154\n",
            "Epoch 74/80\n",
            "31/31 [==============================] - 0s 4ms/step - loss: 0.5149 - accuracy: 0.7556 - val_loss: 0.5087 - val_accuracy: 0.7480\n",
            "Epoch 75/80\n",
            "31/31 [==============================] - 0s 4ms/step - loss: 0.4908 - accuracy: 0.7862 - val_loss: 0.5890 - val_accuracy: 0.7236\n",
            "Epoch 76/80\n",
            "31/31 [==============================] - 0s 4ms/step - loss: 0.5550 - accuracy: 0.7332 - val_loss: 0.5753 - val_accuracy: 0.7073\n",
            "Epoch 77/80\n",
            "31/31 [==============================] - 0s 4ms/step - loss: 0.5086 - accuracy: 0.7760 - val_loss: 0.5269 - val_accuracy: 0.7073\n",
            "Epoch 78/80\n",
            "31/31 [==============================] - 0s 4ms/step - loss: 0.5076 - accuracy: 0.7332 - val_loss: 0.5196 - val_accuracy: 0.7236\n",
            "Epoch 79/80\n",
            "31/31 [==============================] - 0s 4ms/step - loss: 0.4973 - accuracy: 0.7556 - val_loss: 0.5830 - val_accuracy: 0.7073\n",
            "Epoch 80/80\n",
            "31/31 [==============================] - 0s 6ms/step - loss: 0.5088 - accuracy: 0.7373 - val_loss: 0.5291 - val_accuracy: 0.7154\n"
          ]
        },
        {
          "output_type": "execute_result",
          "data": {
            "text/plain": [
              "<keras.src.callbacks.History at 0x79970c155090>"
            ]
          },
          "metadata": {},
          "execution_count": 8
        }
      ]
    },
    {
      "cell_type": "code",
      "source": [
        "Model.evaluate(x_test,y_test)"
      ],
      "metadata": {
        "colab": {
          "base_uri": "https://localhost:8080/"
        },
        "id": "M13aGQp4TE_j",
        "outputId": "2e140fb4-8898-4731-901a-16a0f92eba40"
      },
      "execution_count": null,
      "outputs": [
        {
          "output_type": "stream",
          "name": "stdout",
          "text": [
            "5/5 [==============================] - 0s 3ms/step - loss: 0.5735 - accuracy: 0.7662\n"
          ]
        },
        {
          "output_type": "execute_result",
          "data": {
            "text/plain": [
              "[0.5734914541244507, 0.7662337422370911]"
            ]
          },
          "metadata": {},
          "execution_count": 9
        }
      ]
    },
    {
      "cell_type": "code",
      "source": [
        "Model.fit(X_train, Y_train, epochs=50, batch_size=10, validation_split=0.2)"
      ],
      "metadata": {
        "colab": {
          "base_uri": "https://localhost:8080/"
        },
        "id": "H3tIUytATJGi",
        "outputId": "f2df4d7e-456c-47de-fe22-a7d303ff3fa0"
      },
      "execution_count": null,
      "outputs": [
        {
          "output_type": "stream",
          "name": "stdout",
          "text": [
            "Epoch 1/50\n",
            "50/50 [==============================] - 0s 5ms/step - loss: 0.5534 - accuracy: 0.7413 - val_loss: 0.5368 - val_accuracy: 0.7480\n",
            "Epoch 2/50\n",
            "50/50 [==============================] - 0s 8ms/step - loss: 0.5479 - accuracy: 0.7454 - val_loss: 0.6411 - val_accuracy: 0.6992\n",
            "Epoch 3/50\n",
            "50/50 [==============================] - 0s 4ms/step - loss: 0.6926 - accuracy: 0.7108 - val_loss: 0.5877 - val_accuracy: 0.6585\n",
            "Epoch 4/50\n",
            "50/50 [==============================] - 0s 4ms/step - loss: 0.6513 - accuracy: 0.6945 - val_loss: 0.5743 - val_accuracy: 0.7154\n",
            "Epoch 5/50\n",
            "50/50 [==============================] - 0s 5ms/step - loss: 0.5726 - accuracy: 0.7251 - val_loss: 0.5870 - val_accuracy: 0.6992\n",
            "Epoch 6/50\n",
            "50/50 [==============================] - 0s 4ms/step - loss: 0.5484 - accuracy: 0.7067 - val_loss: 0.5638 - val_accuracy: 0.6992\n",
            "Epoch 7/50\n",
            "50/50 [==============================] - 0s 4ms/step - loss: 0.5378 - accuracy: 0.7332 - val_loss: 0.5342 - val_accuracy: 0.7398\n",
            "Epoch 8/50\n",
            "50/50 [==============================] - 0s 4ms/step - loss: 0.5153 - accuracy: 0.7475 - val_loss: 0.5211 - val_accuracy: 0.7398\n",
            "Epoch 9/50\n",
            "50/50 [==============================] - 0s 5ms/step - loss: 0.5082 - accuracy: 0.7536 - val_loss: 0.5295 - val_accuracy: 0.7317\n",
            "Epoch 10/50\n",
            "50/50 [==============================] - 0s 5ms/step - loss: 0.5113 - accuracy: 0.7760 - val_loss: 0.5295 - val_accuracy: 0.7317\n",
            "Epoch 11/50\n",
            "50/50 [==============================] - 0s 4ms/step - loss: 0.5156 - accuracy: 0.7434 - val_loss: 0.5970 - val_accuracy: 0.7317\n",
            "Epoch 12/50\n",
            "50/50 [==============================] - 0s 4ms/step - loss: 0.5102 - accuracy: 0.7597 - val_loss: 0.5248 - val_accuracy: 0.7317\n",
            "Epoch 13/50\n",
            "50/50 [==============================] - 0s 4ms/step - loss: 0.5260 - accuracy: 0.7454 - val_loss: 0.5783 - val_accuracy: 0.6911\n",
            "Epoch 14/50\n",
            "50/50 [==============================] - 0s 5ms/step - loss: 0.5447 - accuracy: 0.7312 - val_loss: 0.5331 - val_accuracy: 0.7073\n",
            "Epoch 15/50\n",
            "50/50 [==============================] - 0s 4ms/step - loss: 0.5320 - accuracy: 0.7230 - val_loss: 0.5201 - val_accuracy: 0.7480\n",
            "Epoch 16/50\n",
            "50/50 [==============================] - 0s 4ms/step - loss: 0.5516 - accuracy: 0.7271 - val_loss: 0.5071 - val_accuracy: 0.7073\n",
            "Epoch 17/50\n",
            "50/50 [==============================] - 0s 5ms/step - loss: 0.5014 - accuracy: 0.7597 - val_loss: 0.5144 - val_accuracy: 0.7154\n",
            "Epoch 18/50\n",
            "50/50 [==============================] - 0s 4ms/step - loss: 0.5218 - accuracy: 0.7475 - val_loss: 0.5103 - val_accuracy: 0.7154\n",
            "Epoch 19/50\n",
            "50/50 [==============================] - 0s 4ms/step - loss: 0.4989 - accuracy: 0.7739 - val_loss: 0.5411 - val_accuracy: 0.7317\n",
            "Epoch 20/50\n",
            "50/50 [==============================] - 0s 4ms/step - loss: 0.5343 - accuracy: 0.7373 - val_loss: 0.5199 - val_accuracy: 0.7642\n",
            "Epoch 21/50\n",
            "50/50 [==============================] - 0s 4ms/step - loss: 0.5168 - accuracy: 0.7515 - val_loss: 0.5314 - val_accuracy: 0.7398\n",
            "Epoch 22/50\n",
            "50/50 [==============================] - 0s 4ms/step - loss: 0.5059 - accuracy: 0.7536 - val_loss: 0.5495 - val_accuracy: 0.7154\n",
            "Epoch 23/50\n",
            "50/50 [==============================] - 0s 4ms/step - loss: 0.5207 - accuracy: 0.7678 - val_loss: 0.5142 - val_accuracy: 0.7480\n",
            "Epoch 24/50\n",
            "50/50 [==============================] - 0s 4ms/step - loss: 0.5093 - accuracy: 0.7475 - val_loss: 0.5270 - val_accuracy: 0.7236\n",
            "Epoch 25/50\n",
            "50/50 [==============================] - 0s 4ms/step - loss: 0.5164 - accuracy: 0.7189 - val_loss: 0.5237 - val_accuracy: 0.7236\n",
            "Epoch 26/50\n",
            "50/50 [==============================] - 0s 4ms/step - loss: 0.5074 - accuracy: 0.7434 - val_loss: 0.5100 - val_accuracy: 0.7480\n",
            "Epoch 27/50\n",
            "50/50 [==============================] - 0s 4ms/step - loss: 0.5386 - accuracy: 0.7251 - val_loss: 0.5541 - val_accuracy: 0.7073\n",
            "Epoch 28/50\n",
            "50/50 [==============================] - 0s 4ms/step - loss: 0.5383 - accuracy: 0.7352 - val_loss: 0.5168 - val_accuracy: 0.7236\n",
            "Epoch 29/50\n",
            "50/50 [==============================] - 0s 4ms/step - loss: 0.5031 - accuracy: 0.7332 - val_loss: 0.5232 - val_accuracy: 0.7236\n",
            "Epoch 30/50\n",
            "50/50 [==============================] - 0s 4ms/step - loss: 0.5435 - accuracy: 0.7413 - val_loss: 0.5095 - val_accuracy: 0.7236\n",
            "Epoch 31/50\n",
            "50/50 [==============================] - 0s 4ms/step - loss: 0.5237 - accuracy: 0.7393 - val_loss: 0.5060 - val_accuracy: 0.7561\n",
            "Epoch 32/50\n",
            "50/50 [==============================] - 0s 4ms/step - loss: 0.4918 - accuracy: 0.7576 - val_loss: 0.4998 - val_accuracy: 0.7480\n",
            "Epoch 33/50\n",
            "50/50 [==============================] - 0s 4ms/step - loss: 0.4938 - accuracy: 0.7637 - val_loss: 0.5083 - val_accuracy: 0.7480\n",
            "Epoch 34/50\n",
            "50/50 [==============================] - 0s 4ms/step - loss: 0.5132 - accuracy: 0.7536 - val_loss: 0.5113 - val_accuracy: 0.7398\n",
            "Epoch 35/50\n",
            "50/50 [==============================] - 0s 4ms/step - loss: 0.4977 - accuracy: 0.7597 - val_loss: 0.5219 - val_accuracy: 0.7642\n",
            "Epoch 36/50\n",
            "50/50 [==============================] - 0s 4ms/step - loss: 0.5056 - accuracy: 0.7576 - val_loss: 0.5019 - val_accuracy: 0.7480\n",
            "Epoch 37/50\n",
            "50/50 [==============================] - 0s 4ms/step - loss: 0.5204 - accuracy: 0.7413 - val_loss: 0.5361 - val_accuracy: 0.7398\n",
            "Epoch 38/50\n",
            "50/50 [==============================] - 0s 5ms/step - loss: 0.5076 - accuracy: 0.7515 - val_loss: 0.5232 - val_accuracy: 0.7236\n",
            "Epoch 39/50\n",
            "50/50 [==============================] - 0s 4ms/step - loss: 0.5031 - accuracy: 0.7576 - val_loss: 0.6579 - val_accuracy: 0.6667\n",
            "Epoch 40/50\n",
            "50/50 [==============================] - 0s 4ms/step - loss: 0.5304 - accuracy: 0.7291 - val_loss: 0.5209 - val_accuracy: 0.7480\n",
            "Epoch 41/50\n",
            "50/50 [==============================] - 0s 4ms/step - loss: 0.5129 - accuracy: 0.7658 - val_loss: 0.5153 - val_accuracy: 0.7561\n",
            "Epoch 42/50\n",
            "50/50 [==============================] - 0s 5ms/step - loss: 0.5039 - accuracy: 0.7739 - val_loss: 0.5159 - val_accuracy: 0.7480\n",
            "Epoch 43/50\n",
            "50/50 [==============================] - 0s 6ms/step - loss: 0.5075 - accuracy: 0.7637 - val_loss: 0.5081 - val_accuracy: 0.7236\n",
            "Epoch 44/50\n",
            "50/50 [==============================] - 0s 6ms/step - loss: 0.5280 - accuracy: 0.7373 - val_loss: 0.5136 - val_accuracy: 0.7398\n",
            "Epoch 45/50\n",
            "50/50 [==============================] - 0s 5ms/step - loss: 0.5235 - accuracy: 0.7495 - val_loss: 0.5474 - val_accuracy: 0.7154\n",
            "Epoch 46/50\n",
            "50/50 [==============================] - 0s 6ms/step - loss: 0.4904 - accuracy: 0.7821 - val_loss: 0.5117 - val_accuracy: 0.7236\n",
            "Epoch 47/50\n",
            "50/50 [==============================] - 0s 6ms/step - loss: 0.4884 - accuracy: 0.7760 - val_loss: 0.5707 - val_accuracy: 0.7236\n",
            "Epoch 48/50\n",
            "50/50 [==============================] - 0s 6ms/step - loss: 0.4862 - accuracy: 0.7699 - val_loss: 0.5117 - val_accuracy: 0.7317\n",
            "Epoch 49/50\n",
            "50/50 [==============================] - 0s 6ms/step - loss: 0.5342 - accuracy: 0.7251 - val_loss: 0.5382 - val_accuracy: 0.7073\n",
            "Epoch 50/50\n",
            "50/50 [==============================] - 0s 4ms/step - loss: 0.5106 - accuracy: 0.7495 - val_loss: 0.5049 - val_accuracy: 0.7154\n"
          ]
        },
        {
          "output_type": "execute_result",
          "data": {
            "text/plain": [
              "<keras.src.callbacks.History at 0x79972395e1d0>"
            ]
          },
          "metadata": {},
          "execution_count": 10
        }
      ]
    },
    {
      "cell_type": "code",
      "source": [
        "Model.evaluate(x_test,y_test)"
      ],
      "metadata": {
        "colab": {
          "base_uri": "https://localhost:8080/"
        },
        "id": "2F2uGsaUTLTE",
        "outputId": "d2f04342-b192-4a10-c3d3-286c0489c978"
      },
      "execution_count": null,
      "outputs": [
        {
          "output_type": "stream",
          "name": "stdout",
          "text": [
            "5/5 [==============================] - 0s 7ms/step - loss: 0.4567 - accuracy: 0.7792\n"
          ]
        },
        {
          "output_type": "execute_result",
          "data": {
            "text/plain": [
              "[0.4566585421562195, 0.7792207598686218]"
            ]
          },
          "metadata": {},
          "execution_count": 11
        }
      ]
    },
    {
      "cell_type": "code",
      "source": [
        "# Now ANN model using the Batch Normalization\n",
        "\n",
        "Model = tf.keras.Sequential()\n",
        "\n",
        "# Add Flatten layer as the input layer\n",
        "Model.add(tf.keras.layers.Flatten(input_shape=[8]))\n",
        "\n",
        "# Add the first Dense layer\n",
        "Model.add(tf.keras.layers.Dense(16))\n",
        "# Add BatchNormalization layer\n",
        "Model.add(tf.keras.layers.BatchNormalization())\n",
        "# Add ReLU activation function\n",
        "Model.add(tf.keras.layers.Activation('relu'))\n",
        "\n",
        "# Add the second Dense layer (output layer)\n",
        "Model.add(tf.keras.layers.Dense(1, activation='sigmoid'))\n"
      ],
      "metadata": {
        "id": "hYj7awHSTVOG"
      },
      "execution_count": null,
      "outputs": []
    },
    {
      "cell_type": "code",
      "source": [
        "Model.summary()"
      ],
      "metadata": {
        "colab": {
          "base_uri": "https://localhost:8080/"
        },
        "id": "yPdVUA2lT5Er",
        "outputId": "e73db81b-0090-4f7f-985a-8cd5d5fcf5f7"
      },
      "execution_count": null,
      "outputs": [
        {
          "output_type": "stream",
          "name": "stdout",
          "text": [
            "Model: \"sequential_1\"\n",
            "_________________________________________________________________\n",
            " Layer (type)                Output Shape              Param #   \n",
            "=================================================================\n",
            " flatten_1 (Flatten)         (None, 8)                 0         \n",
            "                                                                 \n",
            " dense_2 (Dense)             (None, 16)                144       \n",
            "                                                                 \n",
            " batch_normalization (Batch  (None, 16)                64        \n",
            " Normalization)                                                  \n",
            "                                                                 \n",
            " activation (Activation)     (None, 16)                0         \n",
            "                                                                 \n",
            " dense_3 (Dense)             (None, 1)                 17        \n",
            "                                                                 \n",
            "=================================================================\n",
            "Total params: 225 (900.00 Byte)\n",
            "Trainable params: 193 (772.00 Byte)\n",
            "Non-trainable params: 32 (128.00 Byte)\n",
            "_________________________________________________________________\n"
          ]
        }
      ]
    },
    {
      "cell_type": "code",
      "source": [
        "Model.compile(loss = 'binary_crossentropy',optimizer= tf.keras.optimizers.Adam(0.01),metrics=['accuracy'])"
      ],
      "metadata": {
        "id": "XjOXHINyT6sk"
      },
      "execution_count": null,
      "outputs": []
    },
    {
      "cell_type": "code",
      "source": [
        "Model.fit(X_train, Y_train, epochs=100, batch_size=32, validation_split=0.2)"
      ],
      "metadata": {
        "colab": {
          "base_uri": "https://localhost:8080/"
        },
        "id": "pdiUNp-EUHkO",
        "outputId": "91f24cc7-42cd-403d-f6a2-9af689d77343"
      },
      "execution_count": null,
      "outputs": [
        {
          "output_type": "stream",
          "name": "stdout",
          "text": [
            "Epoch 1/100\n",
            "16/16 [==============================] - 2s 16ms/step - loss: 0.6421 - accuracy: 0.6415 - val_loss: 3.9692 - val_accuracy: 0.3171\n",
            "Epoch 2/100\n",
            "16/16 [==============================] - 0s 7ms/step - loss: 0.5346 - accuracy: 0.7536 - val_loss: 3.1332 - val_accuracy: 0.3252\n",
            "Epoch 3/100\n",
            "16/16 [==============================] - 0s 6ms/step - loss: 0.5202 - accuracy: 0.7617 - val_loss: 2.9502 - val_accuracy: 0.3252\n",
            "Epoch 4/100\n",
            "16/16 [==============================] - 0s 7ms/step - loss: 0.5019 - accuracy: 0.7719 - val_loss: 1.7586 - val_accuracy: 0.3252\n",
            "Epoch 5/100\n",
            "16/16 [==============================] - 0s 7ms/step - loss: 0.4925 - accuracy: 0.7699 - val_loss: 1.2993 - val_accuracy: 0.3333\n",
            "Epoch 6/100\n",
            "16/16 [==============================] - 0s 6ms/step - loss: 0.4998 - accuracy: 0.7597 - val_loss: 1.0087 - val_accuracy: 0.3659\n",
            "Epoch 7/100\n",
            "16/16 [==============================] - 0s 6ms/step - loss: 0.4882 - accuracy: 0.7658 - val_loss: 0.8725 - val_accuracy: 0.4878\n",
            "Epoch 8/100\n",
            "16/16 [==============================] - 0s 6ms/step - loss: 0.4806 - accuracy: 0.7678 - val_loss: 0.7477 - val_accuracy: 0.5366\n",
            "Epoch 9/100\n",
            "16/16 [==============================] - 0s 6ms/step - loss: 0.4811 - accuracy: 0.7597 - val_loss: 0.6392 - val_accuracy: 0.6667\n",
            "Epoch 10/100\n",
            "16/16 [==============================] - 0s 6ms/step - loss: 0.4673 - accuracy: 0.7841 - val_loss: 0.6510 - val_accuracy: 0.6829\n",
            "Epoch 11/100\n",
            "16/16 [==============================] - 0s 6ms/step - loss: 0.4674 - accuracy: 0.7739 - val_loss: 0.6037 - val_accuracy: 0.6992\n",
            "Epoch 12/100\n",
            "16/16 [==============================] - 0s 6ms/step - loss: 0.4778 - accuracy: 0.7699 - val_loss: 0.6140 - val_accuracy: 0.6829\n",
            "Epoch 13/100\n",
            "16/16 [==============================] - 0s 6ms/step - loss: 0.4655 - accuracy: 0.7739 - val_loss: 0.5444 - val_accuracy: 0.7236\n",
            "Epoch 14/100\n",
            "16/16 [==============================] - 0s 5ms/step - loss: 0.4671 - accuracy: 0.7760 - val_loss: 0.5209 - val_accuracy: 0.7154\n",
            "Epoch 15/100\n",
            "16/16 [==============================] - 0s 7ms/step - loss: 0.4653 - accuracy: 0.7719 - val_loss: 0.5679 - val_accuracy: 0.7398\n",
            "Epoch 16/100\n",
            "16/16 [==============================] - 0s 6ms/step - loss: 0.4627 - accuracy: 0.7739 - val_loss: 0.5299 - val_accuracy: 0.7236\n",
            "Epoch 17/100\n",
            "16/16 [==============================] - 0s 6ms/step - loss: 0.4786 - accuracy: 0.7719 - val_loss: 0.5188 - val_accuracy: 0.7073\n",
            "Epoch 18/100\n",
            "16/16 [==============================] - 0s 5ms/step - loss: 0.4630 - accuracy: 0.7739 - val_loss: 0.4942 - val_accuracy: 0.7480\n",
            "Epoch 19/100\n",
            "16/16 [==============================] - 0s 6ms/step - loss: 0.4612 - accuracy: 0.7841 - val_loss: 0.5133 - val_accuracy: 0.7561\n",
            "Epoch 20/100\n",
            "16/16 [==============================] - 0s 6ms/step - loss: 0.4671 - accuracy: 0.7821 - val_loss: 0.5218 - val_accuracy: 0.7398\n",
            "Epoch 21/100\n",
            "16/16 [==============================] - 0s 6ms/step - loss: 0.4651 - accuracy: 0.7780 - val_loss: 0.5049 - val_accuracy: 0.7561\n",
            "Epoch 22/100\n",
            "16/16 [==============================] - 0s 6ms/step - loss: 0.4721 - accuracy: 0.7882 - val_loss: 0.5307 - val_accuracy: 0.7154\n",
            "Epoch 23/100\n",
            "16/16 [==============================] - 0s 6ms/step - loss: 0.4586 - accuracy: 0.7739 - val_loss: 0.5003 - val_accuracy: 0.7805\n",
            "Epoch 24/100\n",
            "16/16 [==============================] - 0s 6ms/step - loss: 0.4602 - accuracy: 0.7841 - val_loss: 0.4904 - val_accuracy: 0.7642\n",
            "Epoch 25/100\n",
            "16/16 [==============================] - 0s 6ms/step - loss: 0.4657 - accuracy: 0.7882 - val_loss: 0.4918 - val_accuracy: 0.7642\n",
            "Epoch 26/100\n",
            "16/16 [==============================] - 0s 7ms/step - loss: 0.4732 - accuracy: 0.7739 - val_loss: 0.4997 - val_accuracy: 0.7398\n",
            "Epoch 27/100\n",
            "16/16 [==============================] - 0s 6ms/step - loss: 0.4662 - accuracy: 0.7699 - val_loss: 0.4928 - val_accuracy: 0.7642\n",
            "Epoch 28/100\n",
            "16/16 [==============================] - 0s 6ms/step - loss: 0.4685 - accuracy: 0.7800 - val_loss: 0.4931 - val_accuracy: 0.7642\n",
            "Epoch 29/100\n",
            "16/16 [==============================] - 0s 5ms/step - loss: 0.4582 - accuracy: 0.7739 - val_loss: 0.4942 - val_accuracy: 0.7236\n",
            "Epoch 30/100\n",
            "16/16 [==============================] - 0s 6ms/step - loss: 0.4551 - accuracy: 0.7739 - val_loss: 0.5026 - val_accuracy: 0.7073\n",
            "Epoch 31/100\n",
            "16/16 [==============================] - 0s 6ms/step - loss: 0.4426 - accuracy: 0.7902 - val_loss: 0.5056 - val_accuracy: 0.6911\n",
            "Epoch 32/100\n",
            "16/16 [==============================] - 0s 6ms/step - loss: 0.4870 - accuracy: 0.7536 - val_loss: 0.5108 - val_accuracy: 0.6911\n",
            "Epoch 33/100\n",
            "16/16 [==============================] - 0s 6ms/step - loss: 0.4634 - accuracy: 0.7617 - val_loss: 0.5340 - val_accuracy: 0.6911\n",
            "Epoch 34/100\n",
            "16/16 [==============================] - 0s 6ms/step - loss: 0.4814 - accuracy: 0.7475 - val_loss: 0.5080 - val_accuracy: 0.7073\n",
            "Epoch 35/100\n",
            "16/16 [==============================] - 0s 7ms/step - loss: 0.4688 - accuracy: 0.7719 - val_loss: 0.5089 - val_accuracy: 0.6992\n",
            "Epoch 36/100\n",
            "16/16 [==============================] - 0s 7ms/step - loss: 0.4523 - accuracy: 0.7882 - val_loss: 0.5078 - val_accuracy: 0.7398\n",
            "Epoch 37/100\n",
            "16/16 [==============================] - 0s 7ms/step - loss: 0.4565 - accuracy: 0.7862 - val_loss: 0.5061 - val_accuracy: 0.7317\n",
            "Epoch 38/100\n",
            "16/16 [==============================] - 0s 6ms/step - loss: 0.4462 - accuracy: 0.7963 - val_loss: 0.5099 - val_accuracy: 0.7317\n",
            "Epoch 39/100\n",
            "16/16 [==============================] - 0s 7ms/step - loss: 0.4579 - accuracy: 0.7699 - val_loss: 0.4975 - val_accuracy: 0.7480\n",
            "Epoch 40/100\n",
            "16/16 [==============================] - 0s 6ms/step - loss: 0.4596 - accuracy: 0.7821 - val_loss: 0.4930 - val_accuracy: 0.7561\n",
            "Epoch 41/100\n",
            "16/16 [==============================] - 0s 6ms/step - loss: 0.4410 - accuracy: 0.7862 - val_loss: 0.4989 - val_accuracy: 0.7236\n",
            "Epoch 42/100\n",
            "16/16 [==============================] - 0s 7ms/step - loss: 0.4453 - accuracy: 0.7821 - val_loss: 0.5097 - val_accuracy: 0.6911\n",
            "Epoch 43/100\n",
            "16/16 [==============================] - 0s 5ms/step - loss: 0.4621 - accuracy: 0.7780 - val_loss: 0.5021 - val_accuracy: 0.7561\n",
            "Epoch 44/100\n",
            "16/16 [==============================] - 0s 7ms/step - loss: 0.4636 - accuracy: 0.7800 - val_loss: 0.5175 - val_accuracy: 0.7398\n",
            "Epoch 45/100\n",
            "16/16 [==============================] - 0s 5ms/step - loss: 0.4693 - accuracy: 0.7617 - val_loss: 0.5123 - val_accuracy: 0.7805\n",
            "Epoch 46/100\n",
            "16/16 [==============================] - 0s 7ms/step - loss: 0.4457 - accuracy: 0.7821 - val_loss: 0.5121 - val_accuracy: 0.7317\n",
            "Epoch 47/100\n",
            "16/16 [==============================] - 0s 7ms/step - loss: 0.4437 - accuracy: 0.7800 - val_loss: 0.5106 - val_accuracy: 0.7398\n",
            "Epoch 48/100\n",
            "16/16 [==============================] - 0s 6ms/step - loss: 0.4377 - accuracy: 0.7862 - val_loss: 0.5274 - val_accuracy: 0.7398\n",
            "Epoch 49/100\n",
            "16/16 [==============================] - 0s 7ms/step - loss: 0.4300 - accuracy: 0.7943 - val_loss: 0.5081 - val_accuracy: 0.7398\n",
            "Epoch 50/100\n",
            "16/16 [==============================] - 0s 6ms/step - loss: 0.4340 - accuracy: 0.7923 - val_loss: 0.5109 - val_accuracy: 0.7317\n",
            "Epoch 51/100\n",
            "16/16 [==============================] - 0s 6ms/step - loss: 0.4433 - accuracy: 0.7637 - val_loss: 0.5264 - val_accuracy: 0.7480\n",
            "Epoch 52/100\n",
            "16/16 [==============================] - 0s 6ms/step - loss: 0.4526 - accuracy: 0.7821 - val_loss: 0.5141 - val_accuracy: 0.7480\n",
            "Epoch 53/100\n",
            "16/16 [==============================] - 0s 7ms/step - loss: 0.4389 - accuracy: 0.7800 - val_loss: 0.5114 - val_accuracy: 0.7561\n",
            "Epoch 54/100\n",
            "16/16 [==============================] - 0s 6ms/step - loss: 0.4378 - accuracy: 0.7821 - val_loss: 0.5204 - val_accuracy: 0.7480\n",
            "Epoch 55/100\n",
            "16/16 [==============================] - 0s 7ms/step - loss: 0.4331 - accuracy: 0.7841 - val_loss: 0.5196 - val_accuracy: 0.7398\n",
            "Epoch 56/100\n",
            "16/16 [==============================] - 0s 6ms/step - loss: 0.4322 - accuracy: 0.7902 - val_loss: 0.5213 - val_accuracy: 0.7236\n",
            "Epoch 57/100\n",
            "16/16 [==============================] - 0s 5ms/step - loss: 0.4433 - accuracy: 0.7902 - val_loss: 0.5240 - val_accuracy: 0.7561\n",
            "Epoch 58/100\n",
            "16/16 [==============================] - 0s 5ms/step - loss: 0.4508 - accuracy: 0.7760 - val_loss: 0.5320 - val_accuracy: 0.7398\n",
            "Epoch 59/100\n",
            "16/16 [==============================] - 0s 5ms/step - loss: 0.4500 - accuracy: 0.7882 - val_loss: 0.5828 - val_accuracy: 0.7073\n",
            "Epoch 60/100\n",
            "16/16 [==============================] - 0s 7ms/step - loss: 0.4253 - accuracy: 0.7862 - val_loss: 0.5341 - val_accuracy: 0.7398\n",
            "Epoch 61/100\n",
            "16/16 [==============================] - 0s 5ms/step - loss: 0.4455 - accuracy: 0.7800 - val_loss: 0.5485 - val_accuracy: 0.7642\n",
            "Epoch 62/100\n",
            "16/16 [==============================] - 0s 5ms/step - loss: 0.4320 - accuracy: 0.8004 - val_loss: 0.5247 - val_accuracy: 0.7317\n",
            "Epoch 63/100\n",
            "16/16 [==============================] - 0s 6ms/step - loss: 0.4278 - accuracy: 0.7923 - val_loss: 0.5671 - val_accuracy: 0.7642\n",
            "Epoch 64/100\n",
            "16/16 [==============================] - 0s 6ms/step - loss: 0.4384 - accuracy: 0.7862 - val_loss: 0.5221 - val_accuracy: 0.7480\n",
            "Epoch 65/100\n",
            "16/16 [==============================] - 0s 7ms/step - loss: 0.4252 - accuracy: 0.8024 - val_loss: 0.5119 - val_accuracy: 0.7317\n",
            "Epoch 66/100\n",
            "16/16 [==============================] - 0s 5ms/step - loss: 0.4291 - accuracy: 0.7862 - val_loss: 0.5289 - val_accuracy: 0.7398\n",
            "Epoch 67/100\n",
            "16/16 [==============================] - 0s 6ms/step - loss: 0.4415 - accuracy: 0.7943 - val_loss: 0.5382 - val_accuracy: 0.7154\n",
            "Epoch 68/100\n",
            "16/16 [==============================] - 0s 9ms/step - loss: 0.4367 - accuracy: 0.7923 - val_loss: 0.5272 - val_accuracy: 0.7317\n",
            "Epoch 69/100\n",
            "16/16 [==============================] - 0s 9ms/step - loss: 0.4220 - accuracy: 0.7821 - val_loss: 0.5700 - val_accuracy: 0.7154\n",
            "Epoch 70/100\n",
            "16/16 [==============================] - 0s 8ms/step - loss: 0.4361 - accuracy: 0.7943 - val_loss: 0.5160 - val_accuracy: 0.7317\n",
            "Epoch 71/100\n",
            "16/16 [==============================] - 0s 8ms/step - loss: 0.4325 - accuracy: 0.7862 - val_loss: 0.5905 - val_accuracy: 0.7073\n",
            "Epoch 72/100\n",
            "16/16 [==============================] - 0s 8ms/step - loss: 0.4200 - accuracy: 0.7984 - val_loss: 0.5463 - val_accuracy: 0.7073\n",
            "Epoch 73/100\n",
            "16/16 [==============================] - 0s 10ms/step - loss: 0.4407 - accuracy: 0.7719 - val_loss: 0.5041 - val_accuracy: 0.7642\n",
            "Epoch 74/100\n",
            "16/16 [==============================] - 0s 9ms/step - loss: 0.4327 - accuracy: 0.7902 - val_loss: 0.5131 - val_accuracy: 0.7480\n",
            "Epoch 75/100\n",
            "16/16 [==============================] - 0s 8ms/step - loss: 0.4308 - accuracy: 0.7923 - val_loss: 0.5166 - val_accuracy: 0.7317\n",
            "Epoch 76/100\n",
            "16/16 [==============================] - 0s 8ms/step - loss: 0.4379 - accuracy: 0.7862 - val_loss: 0.5452 - val_accuracy: 0.7073\n",
            "Epoch 77/100\n",
            "16/16 [==============================] - 0s 8ms/step - loss: 0.4211 - accuracy: 0.8126 - val_loss: 0.5289 - val_accuracy: 0.7317\n",
            "Epoch 78/100\n",
            "16/16 [==============================] - 0s 9ms/step - loss: 0.4333 - accuracy: 0.7963 - val_loss: 0.5118 - val_accuracy: 0.7317\n",
            "Epoch 79/100\n",
            "16/16 [==============================] - 0s 8ms/step - loss: 0.4353 - accuracy: 0.8045 - val_loss: 0.5077 - val_accuracy: 0.7480\n",
            "Epoch 80/100\n",
            "16/16 [==============================] - 0s 8ms/step - loss: 0.4273 - accuracy: 0.7862 - val_loss: 0.5066 - val_accuracy: 0.7398\n",
            "Epoch 81/100\n",
            "16/16 [==============================] - 0s 9ms/step - loss: 0.4127 - accuracy: 0.8045 - val_loss: 0.5323 - val_accuracy: 0.7480\n",
            "Epoch 82/100\n",
            "16/16 [==============================] - 0s 9ms/step - loss: 0.4326 - accuracy: 0.7943 - val_loss: 0.5349 - val_accuracy: 0.7317\n",
            "Epoch 83/100\n",
            "16/16 [==============================] - 0s 7ms/step - loss: 0.4443 - accuracy: 0.7739 - val_loss: 0.5311 - val_accuracy: 0.7317\n",
            "Epoch 84/100\n",
            "16/16 [==============================] - 0s 7ms/step - loss: 0.4336 - accuracy: 0.8004 - val_loss: 0.5165 - val_accuracy: 0.7398\n",
            "Epoch 85/100\n",
            "16/16 [==============================] - 0s 5ms/step - loss: 0.4258 - accuracy: 0.8004 - val_loss: 0.4957 - val_accuracy: 0.7398\n",
            "Epoch 86/100\n",
            "16/16 [==============================] - 0s 6ms/step - loss: 0.4231 - accuracy: 0.8086 - val_loss: 0.4964 - val_accuracy: 0.7398\n",
            "Epoch 87/100\n",
            "16/16 [==============================] - 0s 7ms/step - loss: 0.4449 - accuracy: 0.7841 - val_loss: 0.5120 - val_accuracy: 0.7561\n",
            "Epoch 88/100\n",
            "16/16 [==============================] - 0s 6ms/step - loss: 0.4129 - accuracy: 0.8086 - val_loss: 0.5163 - val_accuracy: 0.7642\n",
            "Epoch 89/100\n",
            "16/16 [==============================] - 0s 6ms/step - loss: 0.4325 - accuracy: 0.7923 - val_loss: 0.5149 - val_accuracy: 0.7561\n",
            "Epoch 90/100\n",
            "16/16 [==============================] - 0s 7ms/step - loss: 0.4315 - accuracy: 0.7923 - val_loss: 0.5163 - val_accuracy: 0.7480\n",
            "Epoch 91/100\n",
            "16/16 [==============================] - 0s 7ms/step - loss: 0.3993 - accuracy: 0.7963 - val_loss: 0.5296 - val_accuracy: 0.7642\n",
            "Epoch 92/100\n",
            "16/16 [==============================] - 0s 7ms/step - loss: 0.4267 - accuracy: 0.7984 - val_loss: 0.5327 - val_accuracy: 0.7398\n",
            "Epoch 93/100\n",
            "16/16 [==============================] - 0s 7ms/step - loss: 0.4300 - accuracy: 0.8024 - val_loss: 0.5102 - val_accuracy: 0.7642\n",
            "Epoch 94/100\n",
            "16/16 [==============================] - 0s 6ms/step - loss: 0.4291 - accuracy: 0.8024 - val_loss: 0.5124 - val_accuracy: 0.7642\n",
            "Epoch 95/100\n",
            "16/16 [==============================] - 0s 6ms/step - loss: 0.4210 - accuracy: 0.7862 - val_loss: 0.5210 - val_accuracy: 0.7480\n",
            "Epoch 96/100\n",
            "16/16 [==============================] - 0s 6ms/step - loss: 0.4222 - accuracy: 0.7963 - val_loss: 0.5134 - val_accuracy: 0.7480\n",
            "Epoch 97/100\n",
            "16/16 [==============================] - 0s 7ms/step - loss: 0.4253 - accuracy: 0.8004 - val_loss: 0.5101 - val_accuracy: 0.7561\n",
            "Epoch 98/100\n",
            "16/16 [==============================] - 0s 6ms/step - loss: 0.4227 - accuracy: 0.8045 - val_loss: 0.5194 - val_accuracy: 0.7480\n",
            "Epoch 99/100\n",
            "16/16 [==============================] - 0s 7ms/step - loss: 0.4006 - accuracy: 0.8167 - val_loss: 0.5121 - val_accuracy: 0.7398\n",
            "Epoch 100/100\n",
            "16/16 [==============================] - 0s 7ms/step - loss: 0.4227 - accuracy: 0.7882 - val_loss: 0.5136 - val_accuracy: 0.7236\n"
          ]
        },
        {
          "output_type": "execute_result",
          "data": {
            "text/plain": [
              "<keras.src.callbacks.History at 0x79970c13f940>"
            ]
          },
          "metadata": {},
          "execution_count": 16
        }
      ]
    },
    {
      "cell_type": "code",
      "source": [
        "# Using SMOTE\n",
        "!pip install imbalanced-learn\n",
        "import tensorflow as tf\n",
        "from imblearn.over_sampling import RandomOverSampler\n",
        "from sklearn.model_selection import train_test_split\n"
      ],
      "metadata": {
        "colab": {
          "base_uri": "https://localhost:8080/"
        },
        "id": "K-tW42mtULQx",
        "outputId": "e6ae9d91-3dcf-4535-f9e2-c47e95c2554d"
      },
      "execution_count": null,
      "outputs": [
        {
          "output_type": "stream",
          "name": "stdout",
          "text": [
            "Requirement already satisfied: imbalanced-learn in /usr/local/lib/python3.10/dist-packages (0.10.1)\n",
            "Requirement already satisfied: numpy>=1.17.3 in /usr/local/lib/python3.10/dist-packages (from imbalanced-learn) (1.25.2)\n",
            "Requirement already satisfied: scipy>=1.3.2 in /usr/local/lib/python3.10/dist-packages (from imbalanced-learn) (1.11.4)\n",
            "Requirement already satisfied: scikit-learn>=1.0.2 in /usr/local/lib/python3.10/dist-packages (from imbalanced-learn) (1.2.2)\n",
            "Requirement already satisfied: joblib>=1.1.1 in /usr/local/lib/python3.10/dist-packages (from imbalanced-learn) (1.3.2)\n",
            "Requirement already satisfied: threadpoolctl>=2.0.0 in /usr/local/lib/python3.10/dist-packages (from imbalanced-learn) (3.3.0)\n"
          ]
        }
      ]
    },
    {
      "cell_type": "code",
      "source": [
        "X = df[['Pregnancies', 'Glucose', 'BloodPressure', 'SkinThickness', 'Insulin', 'BMI', 'DiabetesPedigreeFunction', 'Age']]\n",
        "y = df['Outcome']\n"
      ],
      "metadata": {
        "id": "SP4RASz3U5tP"
      },
      "execution_count": null,
      "outputs": []
    },
    {
      "cell_type": "code",
      "source": [
        "# Split data into training and testing sets\n",
        "X_train, X_test, y_train, y_test = train_test_split(X, y, test_size=0.2, random_state=101)\n"
      ],
      "metadata": {
        "id": "E-VbdTd2VSFw"
      },
      "execution_count": null,
      "outputs": []
    },
    {
      "cell_type": "code",
      "source": [
        "# Apply oversampling to training data\n",
        "oversampler = RandomOverSampler(random_state=42)\n",
        "X_train_resampled, y_train_resampled = oversampler.fit_resample(X_train, y_train)\n"
      ],
      "metadata": {
        "id": "AuFqBfxBV1VJ"
      },
      "execution_count": null,
      "outputs": []
    },
    {
      "cell_type": "code",
      "source": [
        "# Define the model\n",
        "Model = tf.keras.Sequential([\n",
        "    tf.keras.layers.Flatten(input_shape=[8]),\n",
        "    tf.keras.layers.Dense(16),\n",
        "    tf.keras.layers.Activation('relu'),\n",
        "    tf.keras.layers.Dense(1, activation='sigmoid')\n",
        "])\n",
        "\n"
      ],
      "metadata": {
        "id": "koQnJwKkV29S"
      },
      "execution_count": null,
      "outputs": []
    },
    {
      "cell_type": "code",
      "source": [
        "# Compile the model\n",
        "Model.compile(optimizer='adam',\n",
        "              loss='binary_crossentropy',\n",
        "              metrics=['accuracy'])\n",
        "\n"
      ],
      "metadata": {
        "id": "bcz1bHL6V9SR"
      },
      "execution_count": null,
      "outputs": []
    },
    {
      "cell_type": "code",
      "source": [
        "# Train the model on the oversampled data\n",
        "Model.fit(X_train_resampled, y_train_resampled, epochs=10, batch_size=32, validation_split=0.2)\n"
      ],
      "metadata": {
        "colab": {
          "base_uri": "https://localhost:8080/"
        },
        "id": "oGdwHOkrWA1Y",
        "outputId": "15f5a6d7-0891-41eb-c6a0-185da32efca6"
      },
      "execution_count": null,
      "outputs": [
        {
          "output_type": "stream",
          "name": "stdout",
          "text": [
            "Epoch 1/10\n",
            "20/20 [==============================] - 1s 11ms/step - loss: 6.3326 - accuracy: 0.4866 - val_loss: 9.0780 - val_accuracy: 0.3774\n",
            "Epoch 2/10\n",
            "20/20 [==============================] - 0s 4ms/step - loss: 5.1390 - accuracy: 0.5008 - val_loss: 8.3682 - val_accuracy: 0.3836\n",
            "Epoch 3/10\n",
            "20/20 [==============================] - 0s 5ms/step - loss: 4.2128 - accuracy: 0.5165 - val_loss: 6.2162 - val_accuracy: 0.3836\n",
            "Epoch 4/10\n",
            "20/20 [==============================] - 0s 5ms/step - loss: 3.4443 - accuracy: 0.5339 - val_loss: 4.4927 - val_accuracy: 0.4277\n",
            "Epoch 5/10\n",
            "20/20 [==============================] - 0s 4ms/step - loss: 2.8652 - accuracy: 0.5669 - val_loss: 3.7115 - val_accuracy: 0.4340\n",
            "Epoch 6/10\n",
            "20/20 [==============================] - 0s 4ms/step - loss: 2.4639 - accuracy: 0.5906 - val_loss: 3.0128 - val_accuracy: 0.4843\n",
            "Epoch 7/10\n",
            "20/20 [==============================] - 0s 4ms/step - loss: 2.1883 - accuracy: 0.5937 - val_loss: 2.8664 - val_accuracy: 0.4340\n",
            "Epoch 8/10\n",
            "20/20 [==============================] - 0s 5ms/step - loss: 2.0060 - accuracy: 0.6079 - val_loss: 2.1654 - val_accuracy: 0.5094\n",
            "Epoch 9/10\n",
            "20/20 [==============================] - 0s 5ms/step - loss: 1.8174 - accuracy: 0.6205 - val_loss: 1.4684 - val_accuracy: 0.6289\n",
            "Epoch 10/10\n",
            "20/20 [==============================] - 0s 5ms/step - loss: 1.7976 - accuracy: 0.6110 - val_loss: 1.7989 - val_accuracy: 0.5283\n"
          ]
        },
        {
          "output_type": "execute_result",
          "data": {
            "text/plain": [
              "<keras.src.callbacks.History at 0x7996f5143250>"
            ]
          },
          "metadata": {},
          "execution_count": 31
        }
      ]
    },
    {
      "cell_type": "code",
      "source": [
        "# Evaluate the model on the test data\n",
        "test_loss, test_accuracy = Model.evaluate(X_test, y_test)\n",
        "\n",
        "print('Test Accuracy:', test_accuracy)\n"
      ],
      "metadata": {
        "colab": {
          "base_uri": "https://localhost:8080/"
        },
        "id": "_DLNoYxnWD5R",
        "outputId": "a36659df-218b-4345-be5b-ae8970a84d03"
      },
      "execution_count": null,
      "outputs": [
        {
          "output_type": "stream",
          "name": "stdout",
          "text": [
            "5/5 [==============================] - 0s 3ms/step - loss: 1.1943 - accuracy: 0.6883\n",
            "Test Accuracy: 0.6883116960525513\n"
          ]
        }
      ]
    },
    {
      "cell_type": "code",
      "source": [],
      "metadata": {
        "id": "7P-jFi4IWKqp"
      },
      "execution_count": null,
      "outputs": []
    }
  ]
}