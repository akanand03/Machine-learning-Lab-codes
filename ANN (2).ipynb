{
  "cells": [
    {
      "cell_type": "code",
      "execution_count": 1,
      "metadata": {
        "id": "ycVd9mHAReTH"
      },
      "outputs": [
        {
          "ename": "ModuleNotFoundError",
          "evalue": "No module named 'tensorflow'",
          "output_type": "error",
          "traceback": [
            "\u001b[0;31m---------------------------------------------------------------------------\u001b[0m",
            "\u001b[0;31mModuleNotFoundError\u001b[0m                       Traceback (most recent call last)",
            "Cell \u001b[0;32mIn[1], line 1\u001b[0m\n\u001b[0;32m----> 1\u001b[0m \u001b[38;5;28;01mimport\u001b[39;00m \u001b[38;5;21;01mtensorflow\u001b[39;00m \u001b[38;5;28;01mas\u001b[39;00m \u001b[38;5;21;01mtf\u001b[39;00m\n\u001b[1;32m      2\u001b[0m \u001b[38;5;28;01mfrom\u001b[39;00m \u001b[38;5;21;01mtensorflow\u001b[39;00m\u001b[38;5;21;01m.\u001b[39;00m\u001b[38;5;21;01mkeras\u001b[39;00m \u001b[38;5;28;01mimport\u001b[39;00m layers, regularizers\n\u001b[1;32m      3\u001b[0m \u001b[38;5;28;01mfrom\u001b[39;00m \u001b[38;5;21;01mtensorflow\u001b[39;00m\u001b[38;5;21;01m.\u001b[39;00m\u001b[38;5;21;01mkeras\u001b[39;00m\u001b[38;5;21;01m.\u001b[39;00m\u001b[38;5;21;01mactivations\u001b[39;00m \u001b[38;5;28;01mimport\u001b[39;00m swish\n",
            "\u001b[0;31mModuleNotFoundError\u001b[0m: No module named 'tensorflow'"
          ]
        }
      ],
      "source": [
        "import tensorflow as tf\n",
        "from tensorflow.keras import layers, regularizers\n",
        "from tensorflow.keras.activations import swish\n",
        "from tensorflow.keras.optimizers import AdamW\n",
        "from tensorflow.keras.callbacks import EarlyStopping\n",
        "from sklearn.model_selection import train_test_split\n"
      ]
    },
    {
      "cell_type": "code",
      "execution_count": 33,
      "metadata": {
        "id": "8k0bdkIsRqvb"
      },
      "outputs": [],
      "source": [
        "import pandas as pd\n",
        "from sklearn.model_selection import train_test_split\n",
        "df=pd.read_csv('diabetes.csv')\n",
        "X_train,x_test,Y_train,y_test =train_test_split (df[['Pregnancies','Glucose','BloodPressure','Insulin','BMI','Age']],\n",
        "df['Outcome'],test_size=0.08,random_state=101)"
      ]
    },
    {
      "cell_type": "code",
      "execution_count": 80,
      "metadata": {
        "id": "p0hOT6ycSNke"
      },
      "outputs": [],
      "source": [
        "# Define the model\n",
        "Model = tf.keras.Sequential([\n",
        "    layers.Reshape((6, 1), input_shape=(6,)),                 # Reshape input for convolutional layer\n",
        "    layers.Conv1D(1024, 3, activation='relu'),                 # Convolutional layer with 32 filters and kernel size 3\n",
        "    layers.MaxPooling1D(2),                                  # Max pooling layer with pool size 2\n",
        "    layers.Flatten(),                                         # Flatten layer to prepare for dense layers\n",
        "    layers.Dense(1024, activation='relu'),                     # Hidden layer with 128 neurons and ReLU activation\n",
        "    layers.Dropout(0.5),                                      # Dropout layer with dropout rate of 0.5\n",
        "    layers.Dense(1, activation='sigmoid')                     # Output layer with 1 neuron and Sigmoid activation\n",
        "])"
      ]
    },
    {
      "cell_type": "code",
      "execution_count": 88,
      "metadata": {
        "id": "FjhWNpN_F2EZ"
      },
      "outputs": [],
      "source": [
        "# Compile the model with AdamW optimizer\n",
        "Model.compile(optimizer=AdamW(learning_rate=0.0001, weight_decay=0.001),\n",
        "               loss='binary_crossentropy',\n",
        "               metrics=['accuracy'])"
      ]
    },
    {
      "cell_type": "code",
      "execution_count": 89,
      "metadata": {
        "id": "_W6Uq6vIF25y"
      },
      "outputs": [],
      "source": [
        "early_stopping = EarlyStopping(monitor='val_loss', patience=10, restore_best_weights=True)\n"
      ]
    },
    {
      "cell_type": "code",
      "execution_count": 90,
      "metadata": {
        "colab": {
          "base_uri": "https://localhost:8080/"
        },
        "id": "vt1oRJpW95vX",
        "outputId": "3f888899-62a2-4eee-9716-95735884e695"
      },
      "outputs": [
        {
          "name": "stdout",
          "output_type": "stream",
          "text": [
            "Model: \"sequential_10\"\n",
            "_________________________________________________________________\n",
            " Layer (type)                Output Shape              Param #   \n",
            "=================================================================\n",
            " reshape_3 (Reshape)         (None, 6, 1)              0         \n",
            "                                                                 \n",
            " conv1d_3 (Conv1D)           (None, 4, 1024)           4096      \n",
            "                                                                 \n",
            " max_pooling1d_3 (MaxPoolin  (None, 2, 1024)           0         \n",
            " g1D)                                                            \n",
            "                                                                 \n",
            " flatten_8 (Flatten)         (None, 2048)              0         \n",
            "                                                                 \n",
            " dense_26 (Dense)            (None, 1024)              2098176   \n",
            "                                                                 \n",
            " dropout_6 (Dropout)         (None, 1024)              0         \n",
            "                                                                 \n",
            " dense_27 (Dense)            (None, 1)                 1025      \n",
            "                                                                 \n",
            "=================================================================\n",
            "Total params: 2103297 (8.02 MB)\n",
            "Trainable params: 2103297 (8.02 MB)\n",
            "Non-trainable params: 0 (0.00 Byte)\n",
            "_________________________________________________________________\n"
          ]
        }
      ],
      "source": [
        "Model.summary()"
      ]
    },
    {
      "cell_type": "code",
      "execution_count": 91,
      "metadata": {
        "colab": {
          "base_uri": "https://localhost:8080/"
        },
        "id": "2ZWxifh1S5mJ",
        "outputId": "824be94b-6314-49eb-de2d-2e673392363f"
      },
      "outputs": [
        {
          "name": "stdout",
          "output_type": "stream",
          "text": [
            "Epoch 1/100\n",
            "12/12 [==============================] - 1s 27ms/step - loss: 0.6337 - accuracy: 0.6516 - val_loss: 0.5186 - val_accuracy: 0.8226\n",
            "Epoch 2/100\n",
            "12/12 [==============================] - 0s 8ms/step - loss: 0.6326 - accuracy: 0.6657 - val_loss: 0.5055 - val_accuracy: 0.8548\n",
            "Epoch 3/100\n",
            "12/12 [==============================] - 0s 8ms/step - loss: 0.6094 - accuracy: 0.6742 - val_loss: 0.5052 - val_accuracy: 0.8226\n",
            "Epoch 4/100\n",
            "12/12 [==============================] - 0s 8ms/step - loss: 0.5984 - accuracy: 0.6955 - val_loss: 0.4951 - val_accuracy: 0.8065\n",
            "Epoch 5/100\n",
            "12/12 [==============================] - 0s 8ms/step - loss: 0.5999 - accuracy: 0.6841 - val_loss: 0.5255 - val_accuracy: 0.7903\n",
            "Epoch 6/100\n",
            "12/12 [==============================] - 0s 8ms/step - loss: 0.5991 - accuracy: 0.6643 - val_loss: 0.5184 - val_accuracy: 0.7903\n",
            "Epoch 7/100\n",
            "12/12 [==============================] - 0s 8ms/step - loss: 0.5911 - accuracy: 0.6870 - val_loss: 0.5070 - val_accuracy: 0.7903\n",
            "Epoch 8/100\n",
            "12/12 [==============================] - 0s 8ms/step - loss: 0.6015 - accuracy: 0.6870 - val_loss: 0.5212 - val_accuracy: 0.7742\n",
            "Epoch 9/100\n",
            "12/12 [==============================] - 0s 8ms/step - loss: 0.6010 - accuracy: 0.6771 - val_loss: 0.5194 - val_accuracy: 0.7903\n",
            "Epoch 10/100\n",
            "12/12 [==============================] - 0s 8ms/step - loss: 0.5876 - accuracy: 0.6926 - val_loss: 0.5202 - val_accuracy: 0.7903\n",
            "Epoch 11/100\n",
            "12/12 [==============================] - 0s 8ms/step - loss: 0.5938 - accuracy: 0.6884 - val_loss: 0.5163 - val_accuracy: 0.7903\n",
            "Epoch 12/100\n",
            "12/12 [==============================] - 0s 8ms/step - loss: 0.5981 - accuracy: 0.6728 - val_loss: 0.4943 - val_accuracy: 0.8548\n",
            "Epoch 13/100\n",
            "12/12 [==============================] - 0s 8ms/step - loss: 0.5988 - accuracy: 0.6870 - val_loss: 0.4901 - val_accuracy: 0.8548\n",
            "Epoch 14/100\n",
            "12/12 [==============================] - 0s 8ms/step - loss: 0.6031 - accuracy: 0.6785 - val_loss: 0.4977 - val_accuracy: 0.8387\n",
            "Epoch 15/100\n",
            "12/12 [==============================] - 0s 9ms/step - loss: 0.5900 - accuracy: 0.6926 - val_loss: 0.5086 - val_accuracy: 0.8387\n",
            "Epoch 16/100\n",
            "12/12 [==============================] - 0s 10ms/step - loss: 0.5985 - accuracy: 0.6884 - val_loss: 0.5145 - val_accuracy: 0.8226\n",
            "Epoch 17/100\n",
            "12/12 [==============================] - 0s 8ms/step - loss: 0.5975 - accuracy: 0.6813 - val_loss: 0.5483 - val_accuracy: 0.7258\n",
            "Epoch 18/100\n",
            "12/12 [==============================] - 0s 8ms/step - loss: 0.5876 - accuracy: 0.6841 - val_loss: 0.5232 - val_accuracy: 0.7581\n",
            "Epoch 19/100\n",
            "12/12 [==============================] - 0s 8ms/step - loss: 0.5879 - accuracy: 0.6827 - val_loss: 0.5164 - val_accuracy: 0.7581\n",
            "Epoch 20/100\n",
            "12/12 [==============================] - 0s 8ms/step - loss: 0.5843 - accuracy: 0.6912 - val_loss: 0.5462 - val_accuracy: 0.7258\n",
            "Epoch 21/100\n",
            "12/12 [==============================] - 0s 8ms/step - loss: 0.5857 - accuracy: 0.6799 - val_loss: 0.5286 - val_accuracy: 0.7581\n",
            "Epoch 22/100\n",
            "12/12 [==============================] - 0s 8ms/step - loss: 0.5892 - accuracy: 0.6997 - val_loss: 0.5205 - val_accuracy: 0.7903\n",
            "Epoch 23/100\n",
            "12/12 [==============================] - 0s 8ms/step - loss: 0.5747 - accuracy: 0.6997 - val_loss: 0.5196 - val_accuracy: 0.7903\n"
          ]
        }
      ],
      "source": [
        "# Train the model\n",
        "history = Model.fit(X_train, Y_train,\n",
        "                    epochs=100,\n",
        "                    batch_size=64,\n",
        "                    validation_data=(x_test, y_test),\n",
        "                    callbacks=[early_stopping])\n",
        "\n"
      ]
    },
    {
      "cell_type": "code",
      "execution_count": 92,
      "metadata": {
        "colab": {
          "base_uri": "https://localhost:8080/"
        },
        "id": "dZpymVyHS7uX",
        "outputId": "1dd9d4b3-ca7e-49e3-d894-1451fed6cc22"
      },
      "outputs": [
        {
          "name": "stdout",
          "output_type": "stream",
          "text": [
            "2/2 [==============================] - 0s 8ms/step - loss: 0.4901 - accuracy: 0.8548\n"
          ]
        },
        {
          "data": {
            "text/plain": [
              "[0.4901125133037567, 0.8548387289047241]"
            ]
          },
          "execution_count": 92,
          "metadata": {},
          "output_type": "execute_result"
        }
      ],
      "source": [
        "Model.evaluate(x_test,y_test)"
      ]
    },
    {
      "cell_type": "code",
      "execution_count": 15,
      "metadata": {
        "colab": {
          "base_uri": "https://localhost:8080/"
        },
        "id": "qoEkFkrLTCaT",
        "outputId": "0eec6a1f-1e01-4b41-bda4-8b5a1c837e01"
      },
      "outputs": [
        {
          "name": "stdout",
          "output_type": "stream",
          "text": [
            "Epoch 1/80\n",
            "31/31 [==============================] - 0s 6ms/step - loss: 0.5325 - accuracy: 0.7352 - val_loss: 0.5238 - val_accuracy: 0.7398\n",
            "Epoch 2/80\n",
            "31/31 [==============================] - 0s 4ms/step - loss: 0.5352 - accuracy: 0.7556 - val_loss: 0.5338 - val_accuracy: 0.7398\n",
            "Epoch 3/80\n",
            "31/31 [==============================] - 0s 4ms/step - loss: 0.5308 - accuracy: 0.7413 - val_loss: 0.5767 - val_accuracy: 0.7154\n",
            "Epoch 4/80\n",
            "31/31 [==============================] - 0s 4ms/step - loss: 0.5273 - accuracy: 0.7536 - val_loss: 0.5369 - val_accuracy: 0.7317\n",
            "Epoch 5/80\n",
            "31/31 [==============================] - 0s 4ms/step - loss: 0.5702 - accuracy: 0.7108 - val_loss: 0.5218 - val_accuracy: 0.7561\n",
            "Epoch 6/80\n",
            "31/31 [==============================] - 0s 4ms/step - loss: 0.5207 - accuracy: 0.7515 - val_loss: 0.5207 - val_accuracy: 0.7480\n",
            "Epoch 7/80\n",
            "31/31 [==============================] - 0s 4ms/step - loss: 0.5080 - accuracy: 0.7637 - val_loss: 0.5495 - val_accuracy: 0.7154\n",
            "Epoch 8/80\n",
            "31/31 [==============================] - 0s 4ms/step - loss: 0.5123 - accuracy: 0.7434 - val_loss: 0.5322 - val_accuracy: 0.7724\n",
            "Epoch 9/80\n",
            "31/31 [==============================] - 0s 4ms/step - loss: 0.5147 - accuracy: 0.7373 - val_loss: 0.5735 - val_accuracy: 0.7154\n",
            "Epoch 10/80\n",
            "31/31 [==============================] - 0s 4ms/step - loss: 0.5418 - accuracy: 0.7291 - val_loss: 0.5164 - val_accuracy: 0.7398\n",
            "Epoch 11/80\n",
            "31/31 [==============================] - 0s 4ms/step - loss: 0.4993 - accuracy: 0.7739 - val_loss: 0.5234 - val_accuracy: 0.7154\n",
            "Epoch 12/80\n",
            "31/31 [==============================] - 0s 5ms/step - loss: 0.5120 - accuracy: 0.7597 - val_loss: 0.5761 - val_accuracy: 0.7398\n",
            "Epoch 13/80\n",
            "31/31 [==============================] - 0s 4ms/step - loss: 0.4947 - accuracy: 0.7454 - val_loss: 0.5091 - val_accuracy: 0.7236\n",
            "Epoch 14/80\n",
            "31/31 [==============================] - 0s 4ms/step - loss: 0.5231 - accuracy: 0.7291 - val_loss: 0.6192 - val_accuracy: 0.6829\n",
            "Epoch 15/80\n",
            "31/31 [==============================] - 0s 4ms/step - loss: 0.5083 - accuracy: 0.7495 - val_loss: 0.5179 - val_accuracy: 0.7073\n",
            "Epoch 16/80\n",
            "31/31 [==============================] - 0s 5ms/step - loss: 0.4899 - accuracy: 0.7617 - val_loss: 0.5556 - val_accuracy: 0.7154\n",
            "Epoch 17/80\n",
            "31/31 [==============================] - 0s 5ms/step - loss: 0.5112 - accuracy: 0.7413 - val_loss: 0.5619 - val_accuracy: 0.7236\n",
            "Epoch 18/80\n",
            "31/31 [==============================] - 0s 5ms/step - loss: 0.5209 - accuracy: 0.7515 - val_loss: 0.5847 - val_accuracy: 0.7073\n",
            "Epoch 19/80\n",
            "31/31 [==============================] - 0s 5ms/step - loss: 0.5009 - accuracy: 0.7556 - val_loss: 0.5096 - val_accuracy: 0.7073\n",
            "Epoch 20/80\n",
            "31/31 [==============================] - 0s 4ms/step - loss: 0.5013 - accuracy: 0.7637 - val_loss: 0.5212 - val_accuracy: 0.7317\n",
            "Epoch 21/80\n",
            "31/31 [==============================] - 0s 4ms/step - loss: 0.5053 - accuracy: 0.7617 - val_loss: 0.5142 - val_accuracy: 0.7317\n",
            "Epoch 22/80\n",
            "31/31 [==============================] - 0s 4ms/step - loss: 0.4949 - accuracy: 0.7658 - val_loss: 0.5050 - val_accuracy: 0.7317\n",
            "Epoch 23/80\n",
            "31/31 [==============================] - 0s 4ms/step - loss: 0.5492 - accuracy: 0.7352 - val_loss: 0.5208 - val_accuracy: 0.7724\n",
            "Epoch 24/80\n",
            "31/31 [==============================] - 0s 4ms/step - loss: 0.5106 - accuracy: 0.7434 - val_loss: 0.5058 - val_accuracy: 0.7561\n",
            "Epoch 25/80\n",
            "31/31 [==============================] - 0s 4ms/step - loss: 0.4916 - accuracy: 0.7943 - val_loss: 0.4999 - val_accuracy: 0.7317\n",
            "Epoch 26/80\n",
            "31/31 [==============================] - 0s 4ms/step - loss: 0.5089 - accuracy: 0.7332 - val_loss: 0.6026 - val_accuracy: 0.7154\n",
            "Epoch 27/80\n",
            "31/31 [==============================] - 0s 4ms/step - loss: 0.5221 - accuracy: 0.7597 - val_loss: 0.4912 - val_accuracy: 0.7398\n",
            "Epoch 28/80\n",
            "31/31 [==============================] - 0s 4ms/step - loss: 0.5036 - accuracy: 0.7678 - val_loss: 0.5233 - val_accuracy: 0.7642\n",
            "Epoch 29/80\n",
            "31/31 [==============================] - 0s 5ms/step - loss: 0.5038 - accuracy: 0.7597 - val_loss: 0.4904 - val_accuracy: 0.7398\n",
            "Epoch 30/80\n",
            "31/31 [==============================] - 0s 4ms/step - loss: 0.5085 - accuracy: 0.7495 - val_loss: 0.5195 - val_accuracy: 0.7480\n",
            "Epoch 31/80\n",
            "31/31 [==============================] - 0s 4ms/step - loss: 0.5039 - accuracy: 0.7536 - val_loss: 0.5027 - val_accuracy: 0.7236\n",
            "Epoch 32/80\n",
            "31/31 [==============================] - 0s 4ms/step - loss: 0.5085 - accuracy: 0.7597 - val_loss: 0.4929 - val_accuracy: 0.7317\n",
            "Epoch 33/80\n",
            "31/31 [==============================] - 0s 4ms/step - loss: 0.4958 - accuracy: 0.7495 - val_loss: 0.5116 - val_accuracy: 0.7236\n",
            "Epoch 34/80\n",
            "31/31 [==============================] - 0s 5ms/step - loss: 0.5139 - accuracy: 0.7597 - val_loss: 0.5159 - val_accuracy: 0.7642\n",
            "Epoch 35/80\n",
            "31/31 [==============================] - 0s 4ms/step - loss: 0.5292 - accuracy: 0.7352 - val_loss: 0.4952 - val_accuracy: 0.7724\n",
            "Epoch 36/80\n",
            "31/31 [==============================] - 0s 4ms/step - loss: 0.5294 - accuracy: 0.7393 - val_loss: 0.5125 - val_accuracy: 0.7154\n",
            "Epoch 37/80\n",
            "31/31 [==============================] - 0s 5ms/step - loss: 0.5061 - accuracy: 0.7475 - val_loss: 0.5212 - val_accuracy: 0.7154\n",
            "Epoch 38/80\n",
            "31/31 [==============================] - 0s 4ms/step - loss: 0.4931 - accuracy: 0.7495 - val_loss: 0.5184 - val_accuracy: 0.7236\n",
            "Epoch 39/80\n",
            "31/31 [==============================] - 0s 4ms/step - loss: 0.5212 - accuracy: 0.7495 - val_loss: 0.5295 - val_accuracy: 0.7073\n",
            "Epoch 40/80\n",
            "31/31 [==============================] - 0s 4ms/step - loss: 0.5018 - accuracy: 0.7515 - val_loss: 0.4986 - val_accuracy: 0.7480\n",
            "Epoch 41/80\n",
            "31/31 [==============================] - 0s 4ms/step - loss: 0.4937 - accuracy: 0.7637 - val_loss: 0.5067 - val_accuracy: 0.7561\n",
            "Epoch 42/80\n",
            "31/31 [==============================] - 0s 4ms/step - loss: 0.5136 - accuracy: 0.7515 - val_loss: 0.5384 - val_accuracy: 0.7154\n",
            "Epoch 43/80\n",
            "31/31 [==============================] - 0s 4ms/step - loss: 0.4973 - accuracy: 0.7800 - val_loss: 0.5126 - val_accuracy: 0.7480\n",
            "Epoch 44/80\n",
            "31/31 [==============================] - 0s 4ms/step - loss: 0.5108 - accuracy: 0.7536 - val_loss: 0.5136 - val_accuracy: 0.7317\n",
            "Epoch 45/80\n",
            "31/31 [==============================] - 0s 5ms/step - loss: 0.4902 - accuracy: 0.7597 - val_loss: 0.4995 - val_accuracy: 0.7561\n",
            "Epoch 46/80\n",
            "31/31 [==============================] - 0s 4ms/step - loss: 0.5100 - accuracy: 0.7352 - val_loss: 0.5031 - val_accuracy: 0.7480\n",
            "Epoch 47/80\n",
            "31/31 [==============================] - 0s 4ms/step - loss: 0.4952 - accuracy: 0.7556 - val_loss: 0.5100 - val_accuracy: 0.7236\n",
            "Epoch 48/80\n",
            "31/31 [==============================] - 0s 4ms/step - loss: 0.4887 - accuracy: 0.7760 - val_loss: 0.5071 - val_accuracy: 0.7236\n",
            "Epoch 49/80\n",
            "31/31 [==============================] - 0s 4ms/step - loss: 0.4942 - accuracy: 0.7576 - val_loss: 0.5002 - val_accuracy: 0.7398\n",
            "Epoch 50/80\n",
            "31/31 [==============================] - 0s 4ms/step - loss: 0.4866 - accuracy: 0.7821 - val_loss: 0.5115 - val_accuracy: 0.7398\n",
            "Epoch 51/80\n",
            "31/31 [==============================] - 0s 4ms/step - loss: 0.5160 - accuracy: 0.7393 - val_loss: 0.5154 - val_accuracy: 0.7073\n",
            "Epoch 52/80\n",
            "31/31 [==============================] - 0s 7ms/step - loss: 0.5237 - accuracy: 0.7393 - val_loss: 0.5045 - val_accuracy: 0.7073\n",
            "Epoch 53/80\n",
            "31/31 [==============================] - 0s 8ms/step - loss: 0.4971 - accuracy: 0.7495 - val_loss: 0.5179 - val_accuracy: 0.7480\n",
            "Epoch 54/80\n",
            "31/31 [==============================] - 0s 7ms/step - loss: 0.5218 - accuracy: 0.7251 - val_loss: 0.5132 - val_accuracy: 0.7805\n",
            "Epoch 55/80\n",
            "31/31 [==============================] - 0s 7ms/step - loss: 0.4841 - accuracy: 0.7658 - val_loss: 0.5027 - val_accuracy: 0.7398\n",
            "Epoch 56/80\n",
            "31/31 [==============================] - 0s 7ms/step - loss: 0.5129 - accuracy: 0.7536 - val_loss: 0.5266 - val_accuracy: 0.7236\n",
            "Epoch 57/80\n",
            "31/31 [==============================] - 0s 6ms/step - loss: 0.5001 - accuracy: 0.7434 - val_loss: 0.5234 - val_accuracy: 0.7073\n",
            "Epoch 58/80\n",
            "31/31 [==============================] - 0s 7ms/step - loss: 0.5006 - accuracy: 0.7678 - val_loss: 0.5426 - val_accuracy: 0.7236\n",
            "Epoch 59/80\n",
            "31/31 [==============================] - 0s 7ms/step - loss: 0.4850 - accuracy: 0.7800 - val_loss: 0.4994 - val_accuracy: 0.7398\n",
            "Epoch 60/80\n",
            "31/31 [==============================] - 0s 6ms/step - loss: 0.4827 - accuracy: 0.7780 - val_loss: 0.5940 - val_accuracy: 0.6829\n",
            "Epoch 61/80\n",
            "31/31 [==============================] - 0s 8ms/step - loss: 0.5831 - accuracy: 0.6884 - val_loss: 0.5370 - val_accuracy: 0.7154\n",
            "Epoch 62/80\n",
            "31/31 [==============================] - 0s 8ms/step - loss: 0.4823 - accuracy: 0.7597 - val_loss: 0.5049 - val_accuracy: 0.7317\n",
            "Epoch 63/80\n",
            "31/31 [==============================] - 0s 4ms/step - loss: 0.5223 - accuracy: 0.7536 - val_loss: 0.4849 - val_accuracy: 0.7480\n",
            "Epoch 64/80\n",
            "31/31 [==============================] - 0s 4ms/step - loss: 0.4976 - accuracy: 0.7475 - val_loss: 0.4954 - val_accuracy: 0.7642\n",
            "Epoch 65/80\n",
            "31/31 [==============================] - 0s 5ms/step - loss: 0.4849 - accuracy: 0.7760 - val_loss: 0.5058 - val_accuracy: 0.7642\n",
            "Epoch 66/80\n",
            "31/31 [==============================] - 0s 4ms/step - loss: 0.4787 - accuracy: 0.7862 - val_loss: 0.5336 - val_accuracy: 0.7561\n",
            "Epoch 67/80\n",
            "31/31 [==============================] - 0s 4ms/step - loss: 0.5157 - accuracy: 0.7475 - val_loss: 0.4890 - val_accuracy: 0.7642\n",
            "Epoch 68/80\n",
            "31/31 [==============================] - 0s 4ms/step - loss: 0.5054 - accuracy: 0.7597 - val_loss: 0.5186 - val_accuracy: 0.7480\n",
            "Epoch 69/80\n",
            "31/31 [==============================] - 0s 4ms/step - loss: 0.5155 - accuracy: 0.7536 - val_loss: 0.5081 - val_accuracy: 0.7561\n",
            "Epoch 70/80\n",
            "31/31 [==============================] - 0s 4ms/step - loss: 0.5057 - accuracy: 0.7434 - val_loss: 0.4919 - val_accuracy: 0.7642\n",
            "Epoch 71/80\n",
            "31/31 [==============================] - 0s 4ms/step - loss: 0.4976 - accuracy: 0.7719 - val_loss: 0.5183 - val_accuracy: 0.7236\n",
            "Epoch 72/80\n",
            "31/31 [==============================] - 0s 4ms/step - loss: 0.4893 - accuracy: 0.7617 - val_loss: 0.4900 - val_accuracy: 0.7398\n",
            "Epoch 73/80\n",
            "31/31 [==============================] - 0s 4ms/step - loss: 0.4910 - accuracy: 0.7556 - val_loss: 0.4874 - val_accuracy: 0.7480\n",
            "Epoch 74/80\n",
            "31/31 [==============================] - 0s 4ms/step - loss: 0.4860 - accuracy: 0.7637 - val_loss: 0.5408 - val_accuracy: 0.7073\n",
            "Epoch 75/80\n",
            "31/31 [==============================] - 0s 4ms/step - loss: 0.4792 - accuracy: 0.7719 - val_loss: 0.5329 - val_accuracy: 0.7480\n",
            "Epoch 76/80\n",
            "31/31 [==============================] - 0s 4ms/step - loss: 0.4891 - accuracy: 0.7739 - val_loss: 0.5740 - val_accuracy: 0.7236\n",
            "Epoch 77/80\n",
            "31/31 [==============================] - 0s 4ms/step - loss: 0.5250 - accuracy: 0.7495 - val_loss: 0.5528 - val_accuracy: 0.7317\n",
            "Epoch 78/80\n",
            "31/31 [==============================] - 0s 4ms/step - loss: 0.4923 - accuracy: 0.7678 - val_loss: 0.5094 - val_accuracy: 0.7236\n",
            "Epoch 79/80\n",
            "31/31 [==============================] - 0s 4ms/step - loss: 0.4926 - accuracy: 0.7576 - val_loss: 0.4912 - val_accuracy: 0.7480\n",
            "Epoch 80/80\n",
            "31/31 [==============================] - 0s 5ms/step - loss: 0.4902 - accuracy: 0.7536 - val_loss: 0.5577 - val_accuracy: 0.7236\n"
          ]
        },
        {
          "data": {
            "text/plain": [
              "<keras.src.callbacks.History at 0x7da0fc1a71c0>"
            ]
          },
          "execution_count": 15,
          "metadata": {},
          "output_type": "execute_result"
        }
      ],
      "source": [
        "Model.fit(X_train, Y_train, epochs=80, batch_size=16, validation_split=0.2)"
      ]
    },
    {
      "cell_type": "code",
      "execution_count": 20,
      "metadata": {
        "colab": {
          "base_uri": "https://localhost:8080/"
        },
        "id": "M13aGQp4TE_j",
        "outputId": "25ae0ad2-dcba-410a-83f8-83ab76a41640"
      },
      "outputs": [
        {
          "name": "stdout",
          "output_type": "stream",
          "text": [
            "5/5 [==============================] - 0s 3ms/step - loss: 0.5542 - accuracy: 0.7273\n"
          ]
        },
        {
          "data": {
            "text/plain": [
              "[0.5541821122169495, 0.7272727489471436]"
            ]
          },
          "execution_count": 20,
          "metadata": {},
          "output_type": "execute_result"
        }
      ],
      "source": [
        "Model.evaluate(x_test,y_test)"
      ]
    },
    {
      "cell_type": "code",
      "execution_count": null,
      "metadata": {
        "colab": {
          "base_uri": "https://localhost:8080/"
        },
        "id": "H3tIUytATJGi",
        "outputId": "f2df4d7e-456c-47de-fe22-a7d303ff3fa0"
      },
      "outputs": [
        {
          "name": "stdout",
          "output_type": "stream",
          "text": [
            "Epoch 1/50\n",
            "50/50 [==============================] - 0s 5ms/step - loss: 0.5534 - accuracy: 0.7413 - val_loss: 0.5368 - val_accuracy: 0.7480\n",
            "Epoch 2/50\n",
            "50/50 [==============================] - 0s 8ms/step - loss: 0.5479 - accuracy: 0.7454 - val_loss: 0.6411 - val_accuracy: 0.6992\n",
            "Epoch 3/50\n",
            "50/50 [==============================] - 0s 4ms/step - loss: 0.6926 - accuracy: 0.7108 - val_loss: 0.5877 - val_accuracy: 0.6585\n",
            "Epoch 4/50\n",
            "50/50 [==============================] - 0s 4ms/step - loss: 0.6513 - accuracy: 0.6945 - val_loss: 0.5743 - val_accuracy: 0.7154\n",
            "Epoch 5/50\n",
            "50/50 [==============================] - 0s 5ms/step - loss: 0.5726 - accuracy: 0.7251 - val_loss: 0.5870 - val_accuracy: 0.6992\n",
            "Epoch 6/50\n",
            "50/50 [==============================] - 0s 4ms/step - loss: 0.5484 - accuracy: 0.7067 - val_loss: 0.5638 - val_accuracy: 0.6992\n",
            "Epoch 7/50\n",
            "50/50 [==============================] - 0s 4ms/step - loss: 0.5378 - accuracy: 0.7332 - val_loss: 0.5342 - val_accuracy: 0.7398\n",
            "Epoch 8/50\n",
            "50/50 [==============================] - 0s 4ms/step - loss: 0.5153 - accuracy: 0.7475 - val_loss: 0.5211 - val_accuracy: 0.7398\n",
            "Epoch 9/50\n",
            "50/50 [==============================] - 0s 5ms/step - loss: 0.5082 - accuracy: 0.7536 - val_loss: 0.5295 - val_accuracy: 0.7317\n",
            "Epoch 10/50\n",
            "50/50 [==============================] - 0s 5ms/step - loss: 0.5113 - accuracy: 0.7760 - val_loss: 0.5295 - val_accuracy: 0.7317\n",
            "Epoch 11/50\n",
            "50/50 [==============================] - 0s 4ms/step - loss: 0.5156 - accuracy: 0.7434 - val_loss: 0.5970 - val_accuracy: 0.7317\n",
            "Epoch 12/50\n",
            "50/50 [==============================] - 0s 4ms/step - loss: 0.5102 - accuracy: 0.7597 - val_loss: 0.5248 - val_accuracy: 0.7317\n",
            "Epoch 13/50\n",
            "50/50 [==============================] - 0s 4ms/step - loss: 0.5260 - accuracy: 0.7454 - val_loss: 0.5783 - val_accuracy: 0.6911\n",
            "Epoch 14/50\n",
            "50/50 [==============================] - 0s 5ms/step - loss: 0.5447 - accuracy: 0.7312 - val_loss: 0.5331 - val_accuracy: 0.7073\n",
            "Epoch 15/50\n",
            "50/50 [==============================] - 0s 4ms/step - loss: 0.5320 - accuracy: 0.7230 - val_loss: 0.5201 - val_accuracy: 0.7480\n",
            "Epoch 16/50\n",
            "50/50 [==============================] - 0s 4ms/step - loss: 0.5516 - accuracy: 0.7271 - val_loss: 0.5071 - val_accuracy: 0.7073\n",
            "Epoch 17/50\n",
            "50/50 [==============================] - 0s 5ms/step - loss: 0.5014 - accuracy: 0.7597 - val_loss: 0.5144 - val_accuracy: 0.7154\n",
            "Epoch 18/50\n",
            "50/50 [==============================] - 0s 4ms/step - loss: 0.5218 - accuracy: 0.7475 - val_loss: 0.5103 - val_accuracy: 0.7154\n",
            "Epoch 19/50\n",
            "50/50 [==============================] - 0s 4ms/step - loss: 0.4989 - accuracy: 0.7739 - val_loss: 0.5411 - val_accuracy: 0.7317\n",
            "Epoch 20/50\n",
            "50/50 [==============================] - 0s 4ms/step - loss: 0.5343 - accuracy: 0.7373 - val_loss: 0.5199 - val_accuracy: 0.7642\n",
            "Epoch 21/50\n",
            "50/50 [==============================] - 0s 4ms/step - loss: 0.5168 - accuracy: 0.7515 - val_loss: 0.5314 - val_accuracy: 0.7398\n",
            "Epoch 22/50\n",
            "50/50 [==============================] - 0s 4ms/step - loss: 0.5059 - accuracy: 0.7536 - val_loss: 0.5495 - val_accuracy: 0.7154\n",
            "Epoch 23/50\n",
            "50/50 [==============================] - 0s 4ms/step - loss: 0.5207 - accuracy: 0.7678 - val_loss: 0.5142 - val_accuracy: 0.7480\n",
            "Epoch 24/50\n",
            "50/50 [==============================] - 0s 4ms/step - loss: 0.5093 - accuracy: 0.7475 - val_loss: 0.5270 - val_accuracy: 0.7236\n",
            "Epoch 25/50\n",
            "50/50 [==============================] - 0s 4ms/step - loss: 0.5164 - accuracy: 0.7189 - val_loss: 0.5237 - val_accuracy: 0.7236\n",
            "Epoch 26/50\n",
            "50/50 [==============================] - 0s 4ms/step - loss: 0.5074 - accuracy: 0.7434 - val_loss: 0.5100 - val_accuracy: 0.7480\n",
            "Epoch 27/50\n",
            "50/50 [==============================] - 0s 4ms/step - loss: 0.5386 - accuracy: 0.7251 - val_loss: 0.5541 - val_accuracy: 0.7073\n",
            "Epoch 28/50\n",
            "50/50 [==============================] - 0s 4ms/step - loss: 0.5383 - accuracy: 0.7352 - val_loss: 0.5168 - val_accuracy: 0.7236\n",
            "Epoch 29/50\n",
            "50/50 [==============================] - 0s 4ms/step - loss: 0.5031 - accuracy: 0.7332 - val_loss: 0.5232 - val_accuracy: 0.7236\n",
            "Epoch 30/50\n",
            "50/50 [==============================] - 0s 4ms/step - loss: 0.5435 - accuracy: 0.7413 - val_loss: 0.5095 - val_accuracy: 0.7236\n",
            "Epoch 31/50\n",
            "50/50 [==============================] - 0s 4ms/step - loss: 0.5237 - accuracy: 0.7393 - val_loss: 0.5060 - val_accuracy: 0.7561\n",
            "Epoch 32/50\n",
            "50/50 [==============================] - 0s 4ms/step - loss: 0.4918 - accuracy: 0.7576 - val_loss: 0.4998 - val_accuracy: 0.7480\n",
            "Epoch 33/50\n",
            "50/50 [==============================] - 0s 4ms/step - loss: 0.4938 - accuracy: 0.7637 - val_loss: 0.5083 - val_accuracy: 0.7480\n",
            "Epoch 34/50\n",
            "50/50 [==============================] - 0s 4ms/step - loss: 0.5132 - accuracy: 0.7536 - val_loss: 0.5113 - val_accuracy: 0.7398\n",
            "Epoch 35/50\n",
            "50/50 [==============================] - 0s 4ms/step - loss: 0.4977 - accuracy: 0.7597 - val_loss: 0.5219 - val_accuracy: 0.7642\n",
            "Epoch 36/50\n",
            "50/50 [==============================] - 0s 4ms/step - loss: 0.5056 - accuracy: 0.7576 - val_loss: 0.5019 - val_accuracy: 0.7480\n",
            "Epoch 37/50\n",
            "50/50 [==============================] - 0s 4ms/step - loss: 0.5204 - accuracy: 0.7413 - val_loss: 0.5361 - val_accuracy: 0.7398\n",
            "Epoch 38/50\n",
            "50/50 [==============================] - 0s 5ms/step - loss: 0.5076 - accuracy: 0.7515 - val_loss: 0.5232 - val_accuracy: 0.7236\n",
            "Epoch 39/50\n",
            "50/50 [==============================] - 0s 4ms/step - loss: 0.5031 - accuracy: 0.7576 - val_loss: 0.6579 - val_accuracy: 0.6667\n",
            "Epoch 40/50\n",
            "50/50 [==============================] - 0s 4ms/step - loss: 0.5304 - accuracy: 0.7291 - val_loss: 0.5209 - val_accuracy: 0.7480\n",
            "Epoch 41/50\n",
            "50/50 [==============================] - 0s 4ms/step - loss: 0.5129 - accuracy: 0.7658 - val_loss: 0.5153 - val_accuracy: 0.7561\n",
            "Epoch 42/50\n",
            "50/50 [==============================] - 0s 5ms/step - loss: 0.5039 - accuracy: 0.7739 - val_loss: 0.5159 - val_accuracy: 0.7480\n",
            "Epoch 43/50\n",
            "50/50 [==============================] - 0s 6ms/step - loss: 0.5075 - accuracy: 0.7637 - val_loss: 0.5081 - val_accuracy: 0.7236\n",
            "Epoch 44/50\n",
            "50/50 [==============================] - 0s 6ms/step - loss: 0.5280 - accuracy: 0.7373 - val_loss: 0.5136 - val_accuracy: 0.7398\n",
            "Epoch 45/50\n",
            "50/50 [==============================] - 0s 5ms/step - loss: 0.5235 - accuracy: 0.7495 - val_loss: 0.5474 - val_accuracy: 0.7154\n",
            "Epoch 46/50\n",
            "50/50 [==============================] - 0s 6ms/step - loss: 0.4904 - accuracy: 0.7821 - val_loss: 0.5117 - val_accuracy: 0.7236\n",
            "Epoch 47/50\n",
            "50/50 [==============================] - 0s 6ms/step - loss: 0.4884 - accuracy: 0.7760 - val_loss: 0.5707 - val_accuracy: 0.7236\n",
            "Epoch 48/50\n",
            "50/50 [==============================] - 0s 6ms/step - loss: 0.4862 - accuracy: 0.7699 - val_loss: 0.5117 - val_accuracy: 0.7317\n",
            "Epoch 49/50\n",
            "50/50 [==============================] - 0s 6ms/step - loss: 0.5342 - accuracy: 0.7251 - val_loss: 0.5382 - val_accuracy: 0.7073\n",
            "Epoch 50/50\n",
            "50/50 [==============================] - 0s 4ms/step - loss: 0.5106 - accuracy: 0.7495 - val_loss: 0.5049 - val_accuracy: 0.7154\n"
          ]
        },
        {
          "data": {
            "text/plain": [
              "<keras.src.callbacks.History at 0x79972395e1d0>"
            ]
          },
          "execution_count": 10,
          "metadata": {},
          "output_type": "execute_result"
        }
      ],
      "source": [
        "Model.fit(X_train, Y_train, epochs=50, batch_size=10, validation_split=0.2)"
      ]
    },
    {
      "cell_type": "code",
      "execution_count": null,
      "metadata": {
        "colab": {
          "base_uri": "https://localhost:8080/"
        },
        "id": "2F2uGsaUTLTE",
        "outputId": "d2f04342-b192-4a10-c3d3-286c0489c978"
      },
      "outputs": [
        {
          "name": "stdout",
          "output_type": "stream",
          "text": [
            "5/5 [==============================] - 0s 7ms/step - loss: 0.4567 - accuracy: 0.7792\n"
          ]
        },
        {
          "data": {
            "text/plain": [
              "[0.4566585421562195, 0.7792207598686218]"
            ]
          },
          "execution_count": 11,
          "metadata": {},
          "output_type": "execute_result"
        }
      ],
      "source": [
        "Model.evaluate(x_test,y_test)"
      ]
    },
    {
      "cell_type": "code",
      "execution_count": null,
      "metadata": {
        "id": "hYj7awHSTVOG"
      },
      "outputs": [],
      "source": [
        "# Now ANN model using the Batch Normalization\n",
        "\n",
        "Model = tf.keras.Sequential()\n",
        "\n",
        "# Add Flatten layer as the input layer\n",
        "Model.add(tf.keras.layers.Flatten(input_shape=[8]))\n",
        "\n",
        "# Add the first Dense layer\n",
        "Model.add(tf.keras.layers.Dense(16))\n",
        "# Add BatchNormalization layer\n",
        "Model.add(tf.keras.layers.BatchNormalization())\n",
        "# Add ReLU activation function\n",
        "Model.add(tf.keras.layers.Activation('relu'))\n",
        "\n",
        "# Add the second Dense layer (output layer)\n",
        "Model.add(tf.keras.layers.Dense(1, activation='sigmoid'))\n"
      ]
    },
    {
      "cell_type": "code",
      "execution_count": null,
      "metadata": {
        "colab": {
          "base_uri": "https://localhost:8080/"
        },
        "id": "yPdVUA2lT5Er",
        "outputId": "e73db81b-0090-4f7f-985a-8cd5d5fcf5f7"
      },
      "outputs": [
        {
          "name": "stdout",
          "output_type": "stream",
          "text": [
            "Model: \"sequential_1\"\n",
            "_________________________________________________________________\n",
            " Layer (type)                Output Shape              Param #   \n",
            "=================================================================\n",
            " flatten_1 (Flatten)         (None, 8)                 0         \n",
            "                                                                 \n",
            " dense_2 (Dense)             (None, 16)                144       \n",
            "                                                                 \n",
            " batch_normalization (Batch  (None, 16)                64        \n",
            " Normalization)                                                  \n",
            "                                                                 \n",
            " activation (Activation)     (None, 16)                0         \n",
            "                                                                 \n",
            " dense_3 (Dense)             (None, 1)                 17        \n",
            "                                                                 \n",
            "=================================================================\n",
            "Total params: 225 (900.00 Byte)\n",
            "Trainable params: 193 (772.00 Byte)\n",
            "Non-trainable params: 32 (128.00 Byte)\n",
            "_________________________________________________________________\n"
          ]
        }
      ],
      "source": [
        "Model.summary()"
      ]
    },
    {
      "cell_type": "code",
      "execution_count": null,
      "metadata": {
        "id": "XjOXHINyT6sk"
      },
      "outputs": [],
      "source": [
        "Model.compile(loss = 'binary_crossentropy',optimizer= tf.keras.optimizers.Adam(0.01),metrics=['accuracy'])"
      ]
    },
    {
      "cell_type": "code",
      "execution_count": null,
      "metadata": {
        "colab": {
          "base_uri": "https://localhost:8080/"
        },
        "id": "pdiUNp-EUHkO",
        "outputId": "91f24cc7-42cd-403d-f6a2-9af689d77343"
      },
      "outputs": [
        {
          "name": "stdout",
          "output_type": "stream",
          "text": [
            "Epoch 1/100\n",
            "16/16 [==============================] - 2s 16ms/step - loss: 0.6421 - accuracy: 0.6415 - val_loss: 3.9692 - val_accuracy: 0.3171\n",
            "Epoch 2/100\n",
            "16/16 [==============================] - 0s 7ms/step - loss: 0.5346 - accuracy: 0.7536 - val_loss: 3.1332 - val_accuracy: 0.3252\n",
            "Epoch 3/100\n",
            "16/16 [==============================] - 0s 6ms/step - loss: 0.5202 - accuracy: 0.7617 - val_loss: 2.9502 - val_accuracy: 0.3252\n",
            "Epoch 4/100\n",
            "16/16 [==============================] - 0s 7ms/step - loss: 0.5019 - accuracy: 0.7719 - val_loss: 1.7586 - val_accuracy: 0.3252\n",
            "Epoch 5/100\n",
            "16/16 [==============================] - 0s 7ms/step - loss: 0.4925 - accuracy: 0.7699 - val_loss: 1.2993 - val_accuracy: 0.3333\n",
            "Epoch 6/100\n",
            "16/16 [==============================] - 0s 6ms/step - loss: 0.4998 - accuracy: 0.7597 - val_loss: 1.0087 - val_accuracy: 0.3659\n",
            "Epoch 7/100\n",
            "16/16 [==============================] - 0s 6ms/step - loss: 0.4882 - accuracy: 0.7658 - val_loss: 0.8725 - val_accuracy: 0.4878\n",
            "Epoch 8/100\n",
            "16/16 [==============================] - 0s 6ms/step - loss: 0.4806 - accuracy: 0.7678 - val_loss: 0.7477 - val_accuracy: 0.5366\n",
            "Epoch 9/100\n",
            "16/16 [==============================] - 0s 6ms/step - loss: 0.4811 - accuracy: 0.7597 - val_loss: 0.6392 - val_accuracy: 0.6667\n",
            "Epoch 10/100\n",
            "16/16 [==============================] - 0s 6ms/step - loss: 0.4673 - accuracy: 0.7841 - val_loss: 0.6510 - val_accuracy: 0.6829\n",
            "Epoch 11/100\n",
            "16/16 [==============================] - 0s 6ms/step - loss: 0.4674 - accuracy: 0.7739 - val_loss: 0.6037 - val_accuracy: 0.6992\n",
            "Epoch 12/100\n",
            "16/16 [==============================] - 0s 6ms/step - loss: 0.4778 - accuracy: 0.7699 - val_loss: 0.6140 - val_accuracy: 0.6829\n",
            "Epoch 13/100\n",
            "16/16 [==============================] - 0s 6ms/step - loss: 0.4655 - accuracy: 0.7739 - val_loss: 0.5444 - val_accuracy: 0.7236\n",
            "Epoch 14/100\n",
            "16/16 [==============================] - 0s 5ms/step - loss: 0.4671 - accuracy: 0.7760 - val_loss: 0.5209 - val_accuracy: 0.7154\n",
            "Epoch 15/100\n",
            "16/16 [==============================] - 0s 7ms/step - loss: 0.4653 - accuracy: 0.7719 - val_loss: 0.5679 - val_accuracy: 0.7398\n",
            "Epoch 16/100\n",
            "16/16 [==============================] - 0s 6ms/step - loss: 0.4627 - accuracy: 0.7739 - val_loss: 0.5299 - val_accuracy: 0.7236\n",
            "Epoch 17/100\n",
            "16/16 [==============================] - 0s 6ms/step - loss: 0.4786 - accuracy: 0.7719 - val_loss: 0.5188 - val_accuracy: 0.7073\n",
            "Epoch 18/100\n",
            "16/16 [==============================] - 0s 5ms/step - loss: 0.4630 - accuracy: 0.7739 - val_loss: 0.4942 - val_accuracy: 0.7480\n",
            "Epoch 19/100\n",
            "16/16 [==============================] - 0s 6ms/step - loss: 0.4612 - accuracy: 0.7841 - val_loss: 0.5133 - val_accuracy: 0.7561\n",
            "Epoch 20/100\n",
            "16/16 [==============================] - 0s 6ms/step - loss: 0.4671 - accuracy: 0.7821 - val_loss: 0.5218 - val_accuracy: 0.7398\n",
            "Epoch 21/100\n",
            "16/16 [==============================] - 0s 6ms/step - loss: 0.4651 - accuracy: 0.7780 - val_loss: 0.5049 - val_accuracy: 0.7561\n",
            "Epoch 22/100\n",
            "16/16 [==============================] - 0s 6ms/step - loss: 0.4721 - accuracy: 0.7882 - val_loss: 0.5307 - val_accuracy: 0.7154\n",
            "Epoch 23/100\n",
            "16/16 [==============================] - 0s 6ms/step - loss: 0.4586 - accuracy: 0.7739 - val_loss: 0.5003 - val_accuracy: 0.7805\n",
            "Epoch 24/100\n",
            "16/16 [==============================] - 0s 6ms/step - loss: 0.4602 - accuracy: 0.7841 - val_loss: 0.4904 - val_accuracy: 0.7642\n",
            "Epoch 25/100\n",
            "16/16 [==============================] - 0s 6ms/step - loss: 0.4657 - accuracy: 0.7882 - val_loss: 0.4918 - val_accuracy: 0.7642\n",
            "Epoch 26/100\n",
            "16/16 [==============================] - 0s 7ms/step - loss: 0.4732 - accuracy: 0.7739 - val_loss: 0.4997 - val_accuracy: 0.7398\n",
            "Epoch 27/100\n",
            "16/16 [==============================] - 0s 6ms/step - loss: 0.4662 - accuracy: 0.7699 - val_loss: 0.4928 - val_accuracy: 0.7642\n",
            "Epoch 28/100\n",
            "16/16 [==============================] - 0s 6ms/step - loss: 0.4685 - accuracy: 0.7800 - val_loss: 0.4931 - val_accuracy: 0.7642\n",
            "Epoch 29/100\n",
            "16/16 [==============================] - 0s 5ms/step - loss: 0.4582 - accuracy: 0.7739 - val_loss: 0.4942 - val_accuracy: 0.7236\n",
            "Epoch 30/100\n",
            "16/16 [==============================] - 0s 6ms/step - loss: 0.4551 - accuracy: 0.7739 - val_loss: 0.5026 - val_accuracy: 0.7073\n",
            "Epoch 31/100\n",
            "16/16 [==============================] - 0s 6ms/step - loss: 0.4426 - accuracy: 0.7902 - val_loss: 0.5056 - val_accuracy: 0.6911\n",
            "Epoch 32/100\n",
            "16/16 [==============================] - 0s 6ms/step - loss: 0.4870 - accuracy: 0.7536 - val_loss: 0.5108 - val_accuracy: 0.6911\n",
            "Epoch 33/100\n",
            "16/16 [==============================] - 0s 6ms/step - loss: 0.4634 - accuracy: 0.7617 - val_loss: 0.5340 - val_accuracy: 0.6911\n",
            "Epoch 34/100\n",
            "16/16 [==============================] - 0s 6ms/step - loss: 0.4814 - accuracy: 0.7475 - val_loss: 0.5080 - val_accuracy: 0.7073\n",
            "Epoch 35/100\n",
            "16/16 [==============================] - 0s 7ms/step - loss: 0.4688 - accuracy: 0.7719 - val_loss: 0.5089 - val_accuracy: 0.6992\n",
            "Epoch 36/100\n",
            "16/16 [==============================] - 0s 7ms/step - loss: 0.4523 - accuracy: 0.7882 - val_loss: 0.5078 - val_accuracy: 0.7398\n",
            "Epoch 37/100\n",
            "16/16 [==============================] - 0s 7ms/step - loss: 0.4565 - accuracy: 0.7862 - val_loss: 0.5061 - val_accuracy: 0.7317\n",
            "Epoch 38/100\n",
            "16/16 [==============================] - 0s 6ms/step - loss: 0.4462 - accuracy: 0.7963 - val_loss: 0.5099 - val_accuracy: 0.7317\n",
            "Epoch 39/100\n",
            "16/16 [==============================] - 0s 7ms/step - loss: 0.4579 - accuracy: 0.7699 - val_loss: 0.4975 - val_accuracy: 0.7480\n",
            "Epoch 40/100\n",
            "16/16 [==============================] - 0s 6ms/step - loss: 0.4596 - accuracy: 0.7821 - val_loss: 0.4930 - val_accuracy: 0.7561\n",
            "Epoch 41/100\n",
            "16/16 [==============================] - 0s 6ms/step - loss: 0.4410 - accuracy: 0.7862 - val_loss: 0.4989 - val_accuracy: 0.7236\n",
            "Epoch 42/100\n",
            "16/16 [==============================] - 0s 7ms/step - loss: 0.4453 - accuracy: 0.7821 - val_loss: 0.5097 - val_accuracy: 0.6911\n",
            "Epoch 43/100\n",
            "16/16 [==============================] - 0s 5ms/step - loss: 0.4621 - accuracy: 0.7780 - val_loss: 0.5021 - val_accuracy: 0.7561\n",
            "Epoch 44/100\n",
            "16/16 [==============================] - 0s 7ms/step - loss: 0.4636 - accuracy: 0.7800 - val_loss: 0.5175 - val_accuracy: 0.7398\n",
            "Epoch 45/100\n",
            "16/16 [==============================] - 0s 5ms/step - loss: 0.4693 - accuracy: 0.7617 - val_loss: 0.5123 - val_accuracy: 0.7805\n",
            "Epoch 46/100\n",
            "16/16 [==============================] - 0s 7ms/step - loss: 0.4457 - accuracy: 0.7821 - val_loss: 0.5121 - val_accuracy: 0.7317\n",
            "Epoch 47/100\n",
            "16/16 [==============================] - 0s 7ms/step - loss: 0.4437 - accuracy: 0.7800 - val_loss: 0.5106 - val_accuracy: 0.7398\n",
            "Epoch 48/100\n",
            "16/16 [==============================] - 0s 6ms/step - loss: 0.4377 - accuracy: 0.7862 - val_loss: 0.5274 - val_accuracy: 0.7398\n",
            "Epoch 49/100\n",
            "16/16 [==============================] - 0s 7ms/step - loss: 0.4300 - accuracy: 0.7943 - val_loss: 0.5081 - val_accuracy: 0.7398\n",
            "Epoch 50/100\n",
            "16/16 [==============================] - 0s 6ms/step - loss: 0.4340 - accuracy: 0.7923 - val_loss: 0.5109 - val_accuracy: 0.7317\n",
            "Epoch 51/100\n",
            "16/16 [==============================] - 0s 6ms/step - loss: 0.4433 - accuracy: 0.7637 - val_loss: 0.5264 - val_accuracy: 0.7480\n",
            "Epoch 52/100\n",
            "16/16 [==============================] - 0s 6ms/step - loss: 0.4526 - accuracy: 0.7821 - val_loss: 0.5141 - val_accuracy: 0.7480\n",
            "Epoch 53/100\n",
            "16/16 [==============================] - 0s 7ms/step - loss: 0.4389 - accuracy: 0.7800 - val_loss: 0.5114 - val_accuracy: 0.7561\n",
            "Epoch 54/100\n",
            "16/16 [==============================] - 0s 6ms/step - loss: 0.4378 - accuracy: 0.7821 - val_loss: 0.5204 - val_accuracy: 0.7480\n",
            "Epoch 55/100\n",
            "16/16 [==============================] - 0s 7ms/step - loss: 0.4331 - accuracy: 0.7841 - val_loss: 0.5196 - val_accuracy: 0.7398\n",
            "Epoch 56/100\n",
            "16/16 [==============================] - 0s 6ms/step - loss: 0.4322 - accuracy: 0.7902 - val_loss: 0.5213 - val_accuracy: 0.7236\n",
            "Epoch 57/100\n",
            "16/16 [==============================] - 0s 5ms/step - loss: 0.4433 - accuracy: 0.7902 - val_loss: 0.5240 - val_accuracy: 0.7561\n",
            "Epoch 58/100\n",
            "16/16 [==============================] - 0s 5ms/step - loss: 0.4508 - accuracy: 0.7760 - val_loss: 0.5320 - val_accuracy: 0.7398\n",
            "Epoch 59/100\n",
            "16/16 [==============================] - 0s 5ms/step - loss: 0.4500 - accuracy: 0.7882 - val_loss: 0.5828 - val_accuracy: 0.7073\n",
            "Epoch 60/100\n",
            "16/16 [==============================] - 0s 7ms/step - loss: 0.4253 - accuracy: 0.7862 - val_loss: 0.5341 - val_accuracy: 0.7398\n",
            "Epoch 61/100\n",
            "16/16 [==============================] - 0s 5ms/step - loss: 0.4455 - accuracy: 0.7800 - val_loss: 0.5485 - val_accuracy: 0.7642\n",
            "Epoch 62/100\n",
            "16/16 [==============================] - 0s 5ms/step - loss: 0.4320 - accuracy: 0.8004 - val_loss: 0.5247 - val_accuracy: 0.7317\n",
            "Epoch 63/100\n",
            "16/16 [==============================] - 0s 6ms/step - loss: 0.4278 - accuracy: 0.7923 - val_loss: 0.5671 - val_accuracy: 0.7642\n",
            "Epoch 64/100\n",
            "16/16 [==============================] - 0s 6ms/step - loss: 0.4384 - accuracy: 0.7862 - val_loss: 0.5221 - val_accuracy: 0.7480\n",
            "Epoch 65/100\n",
            "16/16 [==============================] - 0s 7ms/step - loss: 0.4252 - accuracy: 0.8024 - val_loss: 0.5119 - val_accuracy: 0.7317\n",
            "Epoch 66/100\n",
            "16/16 [==============================] - 0s 5ms/step - loss: 0.4291 - accuracy: 0.7862 - val_loss: 0.5289 - val_accuracy: 0.7398\n",
            "Epoch 67/100\n",
            "16/16 [==============================] - 0s 6ms/step - loss: 0.4415 - accuracy: 0.7943 - val_loss: 0.5382 - val_accuracy: 0.7154\n",
            "Epoch 68/100\n",
            "16/16 [==============================] - 0s 9ms/step - loss: 0.4367 - accuracy: 0.7923 - val_loss: 0.5272 - val_accuracy: 0.7317\n",
            "Epoch 69/100\n",
            "16/16 [==============================] - 0s 9ms/step - loss: 0.4220 - accuracy: 0.7821 - val_loss: 0.5700 - val_accuracy: 0.7154\n",
            "Epoch 70/100\n",
            "16/16 [==============================] - 0s 8ms/step - loss: 0.4361 - accuracy: 0.7943 - val_loss: 0.5160 - val_accuracy: 0.7317\n",
            "Epoch 71/100\n",
            "16/16 [==============================] - 0s 8ms/step - loss: 0.4325 - accuracy: 0.7862 - val_loss: 0.5905 - val_accuracy: 0.7073\n",
            "Epoch 72/100\n",
            "16/16 [==============================] - 0s 8ms/step - loss: 0.4200 - accuracy: 0.7984 - val_loss: 0.5463 - val_accuracy: 0.7073\n",
            "Epoch 73/100\n",
            "16/16 [==============================] - 0s 10ms/step - loss: 0.4407 - accuracy: 0.7719 - val_loss: 0.5041 - val_accuracy: 0.7642\n",
            "Epoch 74/100\n",
            "16/16 [==============================] - 0s 9ms/step - loss: 0.4327 - accuracy: 0.7902 - val_loss: 0.5131 - val_accuracy: 0.7480\n",
            "Epoch 75/100\n",
            "16/16 [==============================] - 0s 8ms/step - loss: 0.4308 - accuracy: 0.7923 - val_loss: 0.5166 - val_accuracy: 0.7317\n",
            "Epoch 76/100\n",
            "16/16 [==============================] - 0s 8ms/step - loss: 0.4379 - accuracy: 0.7862 - val_loss: 0.5452 - val_accuracy: 0.7073\n",
            "Epoch 77/100\n",
            "16/16 [==============================] - 0s 8ms/step - loss: 0.4211 - accuracy: 0.8126 - val_loss: 0.5289 - val_accuracy: 0.7317\n",
            "Epoch 78/100\n",
            "16/16 [==============================] - 0s 9ms/step - loss: 0.4333 - accuracy: 0.7963 - val_loss: 0.5118 - val_accuracy: 0.7317\n",
            "Epoch 79/100\n",
            "16/16 [==============================] - 0s 8ms/step - loss: 0.4353 - accuracy: 0.8045 - val_loss: 0.5077 - val_accuracy: 0.7480\n",
            "Epoch 80/100\n",
            "16/16 [==============================] - 0s 8ms/step - loss: 0.4273 - accuracy: 0.7862 - val_loss: 0.5066 - val_accuracy: 0.7398\n",
            "Epoch 81/100\n",
            "16/16 [==============================] - 0s 9ms/step - loss: 0.4127 - accuracy: 0.8045 - val_loss: 0.5323 - val_accuracy: 0.7480\n",
            "Epoch 82/100\n",
            "16/16 [==============================] - 0s 9ms/step - loss: 0.4326 - accuracy: 0.7943 - val_loss: 0.5349 - val_accuracy: 0.7317\n",
            "Epoch 83/100\n",
            "16/16 [==============================] - 0s 7ms/step - loss: 0.4443 - accuracy: 0.7739 - val_loss: 0.5311 - val_accuracy: 0.7317\n",
            "Epoch 84/100\n",
            "16/16 [==============================] - 0s 7ms/step - loss: 0.4336 - accuracy: 0.8004 - val_loss: 0.5165 - val_accuracy: 0.7398\n",
            "Epoch 85/100\n",
            "16/16 [==============================] - 0s 5ms/step - loss: 0.4258 - accuracy: 0.8004 - val_loss: 0.4957 - val_accuracy: 0.7398\n",
            "Epoch 86/100\n",
            "16/16 [==============================] - 0s 6ms/step - loss: 0.4231 - accuracy: 0.8086 - val_loss: 0.4964 - val_accuracy: 0.7398\n",
            "Epoch 87/100\n",
            "16/16 [==============================] - 0s 7ms/step - loss: 0.4449 - accuracy: 0.7841 - val_loss: 0.5120 - val_accuracy: 0.7561\n",
            "Epoch 88/100\n",
            "16/16 [==============================] - 0s 6ms/step - loss: 0.4129 - accuracy: 0.8086 - val_loss: 0.5163 - val_accuracy: 0.7642\n",
            "Epoch 89/100\n",
            "16/16 [==============================] - 0s 6ms/step - loss: 0.4325 - accuracy: 0.7923 - val_loss: 0.5149 - val_accuracy: 0.7561\n",
            "Epoch 90/100\n",
            "16/16 [==============================] - 0s 7ms/step - loss: 0.4315 - accuracy: 0.7923 - val_loss: 0.5163 - val_accuracy: 0.7480\n",
            "Epoch 91/100\n",
            "16/16 [==============================] - 0s 7ms/step - loss: 0.3993 - accuracy: 0.7963 - val_loss: 0.5296 - val_accuracy: 0.7642\n",
            "Epoch 92/100\n",
            "16/16 [==============================] - 0s 7ms/step - loss: 0.4267 - accuracy: 0.7984 - val_loss: 0.5327 - val_accuracy: 0.7398\n",
            "Epoch 93/100\n",
            "16/16 [==============================] - 0s 7ms/step - loss: 0.4300 - accuracy: 0.8024 - val_loss: 0.5102 - val_accuracy: 0.7642\n",
            "Epoch 94/100\n",
            "16/16 [==============================] - 0s 6ms/step - loss: 0.4291 - accuracy: 0.8024 - val_loss: 0.5124 - val_accuracy: 0.7642\n",
            "Epoch 95/100\n",
            "16/16 [==============================] - 0s 6ms/step - loss: 0.4210 - accuracy: 0.7862 - val_loss: 0.5210 - val_accuracy: 0.7480\n",
            "Epoch 96/100\n",
            "16/16 [==============================] - 0s 6ms/step - loss: 0.4222 - accuracy: 0.7963 - val_loss: 0.5134 - val_accuracy: 0.7480\n",
            "Epoch 97/100\n",
            "16/16 [==============================] - 0s 7ms/step - loss: 0.4253 - accuracy: 0.8004 - val_loss: 0.5101 - val_accuracy: 0.7561\n",
            "Epoch 98/100\n",
            "16/16 [==============================] - 0s 6ms/step - loss: 0.4227 - accuracy: 0.8045 - val_loss: 0.5194 - val_accuracy: 0.7480\n",
            "Epoch 99/100\n",
            "16/16 [==============================] - 0s 7ms/step - loss: 0.4006 - accuracy: 0.8167 - val_loss: 0.5121 - val_accuracy: 0.7398\n",
            "Epoch 100/100\n",
            "16/16 [==============================] - 0s 7ms/step - loss: 0.4227 - accuracy: 0.7882 - val_loss: 0.5136 - val_accuracy: 0.7236\n"
          ]
        },
        {
          "data": {
            "text/plain": [
              "<keras.src.callbacks.History at 0x79970c13f940>"
            ]
          },
          "execution_count": 16,
          "metadata": {},
          "output_type": "execute_result"
        }
      ],
      "source": [
        "Model.fit(X_train, Y_train, epochs=100, batch_size=32, validation_split=0.2)"
      ]
    },
    {
      "cell_type": "code",
      "execution_count": null,
      "metadata": {
        "colab": {
          "base_uri": "https://localhost:8080/"
        },
        "id": "K-tW42mtULQx",
        "outputId": "e6ae9d91-3dcf-4535-f9e2-c47e95c2554d"
      },
      "outputs": [
        {
          "name": "stdout",
          "output_type": "stream",
          "text": [
            "Requirement already satisfied: imbalanced-learn in /usr/local/lib/python3.10/dist-packages (0.10.1)\n",
            "Requirement already satisfied: numpy>=1.17.3 in /usr/local/lib/python3.10/dist-packages (from imbalanced-learn) (1.25.2)\n",
            "Requirement already satisfied: scipy>=1.3.2 in /usr/local/lib/python3.10/dist-packages (from imbalanced-learn) (1.11.4)\n",
            "Requirement already satisfied: scikit-learn>=1.0.2 in /usr/local/lib/python3.10/dist-packages (from imbalanced-learn) (1.2.2)\n",
            "Requirement already satisfied: joblib>=1.1.1 in /usr/local/lib/python3.10/dist-packages (from imbalanced-learn) (1.3.2)\n",
            "Requirement already satisfied: threadpoolctl>=2.0.0 in /usr/local/lib/python3.10/dist-packages (from imbalanced-learn) (3.3.0)\n"
          ]
        }
      ],
      "source": [
        "# Using SMOTE\n",
        "!pip install imbalanced-learn\n",
        "import tensorflow as tf\n",
        "from imblearn.over_sampling import RandomOverSampler\n",
        "from sklearn.model_selection import train_test_split\n"
      ]
    },
    {
      "cell_type": "code",
      "execution_count": null,
      "metadata": {
        "id": "SP4RASz3U5tP"
      },
      "outputs": [],
      "source": [
        "X = df[['Pregnancies', 'Glucose', 'BloodPressure', 'SkinThickness', 'Insulin', 'BMI', 'DiabetesPedigreeFunction', 'Age']]\n",
        "y = df['Outcome']\n"
      ]
    },
    {
      "cell_type": "code",
      "execution_count": null,
      "metadata": {
        "id": "E-VbdTd2VSFw"
      },
      "outputs": [],
      "source": [
        "# Split data into training and testing sets\n",
        "X_train, X_test, y_train, y_test = train_test_split(X, y, test_size=0.2, random_state=101)\n"
      ]
    },
    {
      "cell_type": "code",
      "execution_count": null,
      "metadata": {
        "id": "AuFqBfxBV1VJ"
      },
      "outputs": [],
      "source": [
        "# Apply oversampling to training data\n",
        "oversampler = RandomOverSampler(random_state=42)\n",
        "X_train_resampled, y_train_resampled = oversampler.fit_resample(X_train, y_train)\n"
      ]
    },
    {
      "cell_type": "code",
      "execution_count": null,
      "metadata": {
        "id": "koQnJwKkV29S"
      },
      "outputs": [],
      "source": [
        "# Define the model\n",
        "Model = tf.keras.Sequential([\n",
        "    tf.keras.layers.Flatten(input_shape=[8]),\n",
        "    tf.keras.layers.Dense(16),\n",
        "    tf.keras.layers.Activation('relu'),\n",
        "    tf.keras.layers.Dense(1, activation='sigmoid')\n",
        "])\n",
        "\n"
      ]
    },
    {
      "cell_type": "code",
      "execution_count": null,
      "metadata": {
        "id": "bcz1bHL6V9SR"
      },
      "outputs": [],
      "source": [
        "# Compile the model\n",
        "Model.compile(optimizer='adam',\n",
        "              loss='binary_crossentropy',\n",
        "              metrics=['accuracy'])\n",
        "\n"
      ]
    },
    {
      "cell_type": "code",
      "execution_count": null,
      "metadata": {
        "colab": {
          "base_uri": "https://localhost:8080/"
        },
        "id": "oGdwHOkrWA1Y",
        "outputId": "15f5a6d7-0891-41eb-c6a0-185da32efca6"
      },
      "outputs": [
        {
          "name": "stdout",
          "output_type": "stream",
          "text": [
            "Epoch 1/10\n",
            "20/20 [==============================] - 1s 11ms/step - loss: 6.3326 - accuracy: 0.4866 - val_loss: 9.0780 - val_accuracy: 0.3774\n",
            "Epoch 2/10\n",
            "20/20 [==============================] - 0s 4ms/step - loss: 5.1390 - accuracy: 0.5008 - val_loss: 8.3682 - val_accuracy: 0.3836\n",
            "Epoch 3/10\n",
            "20/20 [==============================] - 0s 5ms/step - loss: 4.2128 - accuracy: 0.5165 - val_loss: 6.2162 - val_accuracy: 0.3836\n",
            "Epoch 4/10\n",
            "20/20 [==============================] - 0s 5ms/step - loss: 3.4443 - accuracy: 0.5339 - val_loss: 4.4927 - val_accuracy: 0.4277\n",
            "Epoch 5/10\n",
            "20/20 [==============================] - 0s 4ms/step - loss: 2.8652 - accuracy: 0.5669 - val_loss: 3.7115 - val_accuracy: 0.4340\n",
            "Epoch 6/10\n",
            "20/20 [==============================] - 0s 4ms/step - loss: 2.4639 - accuracy: 0.5906 - val_loss: 3.0128 - val_accuracy: 0.4843\n",
            "Epoch 7/10\n",
            "20/20 [==============================] - 0s 4ms/step - loss: 2.1883 - accuracy: 0.5937 - val_loss: 2.8664 - val_accuracy: 0.4340\n",
            "Epoch 8/10\n",
            "20/20 [==============================] - 0s 5ms/step - loss: 2.0060 - accuracy: 0.6079 - val_loss: 2.1654 - val_accuracy: 0.5094\n",
            "Epoch 9/10\n",
            "20/20 [==============================] - 0s 5ms/step - loss: 1.8174 - accuracy: 0.6205 - val_loss: 1.4684 - val_accuracy: 0.6289\n",
            "Epoch 10/10\n",
            "20/20 [==============================] - 0s 5ms/step - loss: 1.7976 - accuracy: 0.6110 - val_loss: 1.7989 - val_accuracy: 0.5283\n"
          ]
        },
        {
          "data": {
            "text/plain": [
              "<keras.src.callbacks.History at 0x7996f5143250>"
            ]
          },
          "execution_count": 31,
          "metadata": {},
          "output_type": "execute_result"
        }
      ],
      "source": [
        "# Train the model on the oversampled data\n",
        "Model.fit(X_train_resampled, y_train_resampled, epochs=10, batch_size=32, validation_split=0.2)\n"
      ]
    },
    {
      "cell_type": "code",
      "execution_count": null,
      "metadata": {
        "colab": {
          "base_uri": "https://localhost:8080/"
        },
        "id": "_DLNoYxnWD5R",
        "outputId": "a36659df-218b-4345-be5b-ae8970a84d03"
      },
      "outputs": [
        {
          "name": "stdout",
          "output_type": "stream",
          "text": [
            "5/5 [==============================] - 0s 3ms/step - loss: 1.1943 - accuracy: 0.6883\n",
            "Test Accuracy: 0.6883116960525513\n"
          ]
        }
      ],
      "source": [
        "# Evaluate the model on the test data\n",
        "test_loss, test_accuracy = Model.evaluate(X_test, y_test)\n",
        "\n",
        "print('Test Accuracy:', test_accuracy)\n"
      ]
    },
    {
      "cell_type": "code",
      "execution_count": null,
      "metadata": {
        "id": "7P-jFi4IWKqp"
      },
      "outputs": [],
      "source": []
    }
  ],
  "metadata": {
    "accelerator": "GPU",
    "colab": {
      "gpuType": "T4",
      "provenance": []
    },
    "kernelspec": {
      "display_name": "Python 3",
      "name": "python3"
    },
    "language_info": {
      "codemirror_mode": {
        "name": "ipython",
        "version": 3
      },
      "file_extension": ".py",
      "mimetype": "text/x-python",
      "name": "python",
      "nbconvert_exporter": "python",
      "pygments_lexer": "ipython3",
      "version": "3.11.7"
    }
  },
  "nbformat": 4,
  "nbformat_minor": 0
}
